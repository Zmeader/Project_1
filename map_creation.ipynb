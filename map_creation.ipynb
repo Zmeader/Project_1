{
 "cells": [
  {
   "cell_type": "code",
   "execution_count": null,
   "id": "196ab7bf",
   "metadata": {},
   "outputs": [],
   "source": [
    "#Import the necessary functions\n",
    "from pprint import pprint\n",
    "import pandas as pd \n",
    "import requests\n",
    "import numpy as np\n",
    "import gmaps\n",
    "\n",
    "from config import yelp_key\n",
    "from config import g_key"
   ]
  },
  {
   "cell_type": "code",
   "execution_count": null,
   "id": "95e5e315",
   "metadata": {},
   "outputs": [],
   "source": [
    "#import the csv file\n",
    "data = pd.read_csv(\"data/yelp_inspection_merge.csv\")\n",
    "data"
   ]
  },
  {
   "cell_type": "code",
   "execution_count": null,
   "id": "42ce3a78",
   "metadata": {},
   "outputs": [],
   "source": [
    "#create a dataframe with a great rating\n",
    "great_df = data.loc[data[\"rating\"]>=4]\n",
    "good_df = data.loc[data[\"rating\"]< 4]\n",
    "good_df = good_df.loc[good_df[\"rating\"]>=2]\n",
    "bad_df = data.loc[data[\"rating\"] <2]"
   ]
  },
  {
   "cell_type": "code",
   "execution_count": null,
   "id": "c9406890",
   "metadata": {},
   "outputs": [],
   "source": [
    "#create a map with the great dataframe\n",
    "great_health = great_df.loc[great_df[\"Results\"] == \"Pass\"]\n",
    "bad_health = great_df.loc[great_df[\"Results\"] ==\"Fail\"]\n",
    "vbad_health = bad_df.loc[bad_df[\"Results\"]==\"Fail\"]\n",
    "notbad_health = bad_df.loc[bad_df[\"Results\"] == \"Pass\"]\n",
    "\n",
    "#configure the gmaps\n",
    "gmaps.configure(api_key=g_key)"
   ]
  },
  {
   "cell_type": "code",
   "execution_count": null,
   "id": "57b8c43a",
   "metadata": {
    "scrolled": true
   },
   "outputs": [],
   "source": [
    "green_locations = great_health[[\"Latitude\", \"Longitude\"]]\n",
    "yellow_locations = bad_health[[\"Latitude\", \"Longitude\"]]\n",
    "red_locations = vbad_health[[\"Latitude\", \"Longitude\"]]\n",
    "blue_locations = notbad_health[[\"Latitude\", \"Longitude\"]]\n",
    "# names = list(great_health[\"name\"])                            \n",
    "fig = gmaps.figure()\n",
    "# marker = gmaps.marker_layer(green_locations)\n",
    "\n",
    "# fig.add_layer(marker)\n",
    "#change the color of the marker\n",
    "green_symbols = gmaps.symbol_layer(green_locations, fill_color=\"green\", stroke_color = \"green\")\n",
    "fig.add_layer(green_symbols)\n",
    "\n",
    "# new_markers = gmaps.marker_layer(orange_locations)\n",
    "\n",
    "# fig.add_layer(new_markers)\n",
    "\n",
    "yellow_symbols = gmaps.symbol_layer(yellow_locations, fill_color = \"yellow\", stroke_color = \"yellow\")\n",
    "fig.add_layer(yellow_symbols)\n",
    "\n",
    "red_symbols = gmaps.symbol_layer(red_locations, fill_color=\"red\", stroke_color=\"red\")\n",
    "fig.add_layer(red_symbols)\n",
    "\n",
    "blue_symbols = gmaps.symbol_layer(blue_locations, fill_color=\"blue\", stroke_color=\"blue\")\n",
    "fig.add_layer(blue_symbols)\n",
    "fig"
   ]
  },
  {
   "cell_type": "code",
   "execution_count": null,
   "id": "8ba08666",
   "metadata": {},
   "outputs": [],
   "source": [
    "#create maps individually for each type\n",
    "green_locations = great_health[[\"Latitude\", \"Longitude\"]]\n",
    "fig = gmaps.figure()\n",
    "green_symbols = gmaps.symbol_layer(green_locations, fill_color=\"green\", stroke_color = \"green\")\n",
    "fig.add_layer(green_symbols)\n",
    "fig"
   ]
  },
  {
   "cell_type": "code",
   "execution_count": null,
   "id": "e324cce1",
   "metadata": {},
   "outputs": [],
   "source": [
    "yellow_locations = bad_health[[\"Latitude\", \"Longitude\"]]\n",
    "fig = gmaps.figure()\n",
    "yellow_symbols = gmaps.symbol_layer(yellow_locations, fill_color=\"yellow\", stroke_color = \"yellow\")\n",
    "fig.add_layer(yellow_symbols)\n",
    "fig"
   ]
  },
  {
   "cell_type": "code",
   "execution_count": null,
   "id": "0cc5b390",
   "metadata": {},
   "outputs": [],
   "source": [
    "red_locations = vbad_health[[\"Latitude\", \"Longitude\"]]\n",
    "fig = gmaps.figure()\n",
    "red_symbols = gmaps.symbol_layer(red_locations, fill_color=\"red\", stroke_color = \"red\")\n",
    "fig.add_layer(red_symbols)\n",
    "fig"
   ]
  },
  {
   "cell_type": "code",
   "execution_count": null,
   "id": "1527221d",
   "metadata": {},
   "outputs": [],
   "source": [
    "blue_locations = notbad_health[[\"Latitude\", \"Longitude\"]]\n",
    "fig = gmaps.figure()\n",
    "blue_symbols = gmaps.symbol_layer(blue_locations, fill_color=\"blue\", stroke_color = \"blue\")\n",
    "fig.add_layer(blue_symbols)\n",
    "fig"
   ]
  },
  {
   "cell_type": "code",
   "execution_count": null,
   "id": "cfafa880",
   "metadata": {},
   "outputs": [],
   "source": [
    "#potential maps I could make\n",
    "#comparing the more popular zip codes and see which one has the most highest rated restaurants\n",
    "great_health[\"Zip\"].value_counts()\n",
    "zip_code_60661 = great_health.loc[great_health[\"Zip\"] == 60661]\n",
    "data_60661 = data.loc[data[\"Zip\"] == 60661]\n",
    "zip_code_60661"
   ]
  },
  {
   "cell_type": "code",
   "execution_count": null,
   "id": "fb4f5bf1",
   "metadata": {},
   "outputs": [],
   "source": [
    "data_60661"
   ]
  },
  {
   "cell_type": "code",
   "execution_count": null,
   "id": "8302ce81",
   "metadata": {},
   "outputs": [],
   "source": [
    "zip60661_locations = data_60661[[\"Latitude\", \"Longitude\"]]\n",
    "fig = gmaps.figure()\n",
    "zip60661_symbols = gmaps.symbol_layer(zip60661_locations, fill_color=\"blue\", stroke_color = \"blue\")\n",
    "fig.add_layer(zip60661_symbols)\n",
    "fig"
   ]
  },
  {
   "cell_type": "code",
   "execution_count": null,
   "id": "34821972",
   "metadata": {},
   "outputs": [],
   "source": [
    "#create a map of the great rating restaurants in 60661\n",
    "great_data_60661 = data_60661.loc[data_60661[\"rating\"] > 4]\n",
    "great60661_locations = great_data_60661[[\"Latitude\", \"Longitude\"]]\n",
    "fig = gmaps.figure()\n",
    "great60661_symbols = gmaps.symbol_layer(great60661_locations, fill_color=\"blue\", stroke_color = \"blue\")\n",
    "fig.add_layer(great60661_symbols)\n",
    "fig"
   ]
  },
  {
   "cell_type": "code",
   "execution_count": null,
   "id": "960d4cc4",
   "metadata": {},
   "outputs": [],
   "source": [
    "data_60657 = data.loc[data[\"zip code_y\"] == 60657]\n",
    "data_60613 = data.loc[data[\"zip code_y\"] == 60613]\n",
    "great_data_60657 = data_60657[data_60657[\"rating\"]>=4]\n",
    "great_data_60613 = data_60613[data_60613[\"rating\"]>=4]\n",
    "data_60657"
   ]
  },
  {
   "cell_type": "code",
   "execution_count": null,
   "id": "ba41f94f",
   "metadata": {},
   "outputs": [],
   "source": [
    "#create a graph showing whether you should go north or south for a good restaurant before/after a cubs game\n",
    "great60657_locations = great_data_60657[[\"Latitude\", \"Longitude\"]]\n",
    "great60613_locations = great_data_60613[[\"Latitude\", \"Longitude\"]]\n",
    "fig = gmaps.figure()\n",
    "great60657_symbols = gmaps.symbol_layer(great60657_locations, fill_color=\"blue\", stroke_color = \"blue\")\n",
    "fig.add_layer(great60657_symbols)\n",
    "great60613_symbols = gmaps.symbol_layer(great60613_locations, fill_color=\"red\", stroke_color = \"red\")\n",
    "fig.add_layer(great60613_symbols)\n",
    "fig"
   ]
  },
  {
   "cell_type": "code",
   "execution_count": null,
   "id": "9e53cc84",
   "metadata": {},
   "outputs": [],
   "source": [
    "just_ratings = pd.read_csv(\"CSV_Output/yelp_csv_Clean.csv\")\n",
    "just_ratings"
   ]
  },
  {
   "cell_type": "code",
   "execution_count": null,
   "id": "a6d30ed6",
   "metadata": {},
   "outputs": [],
   "source": [
    "just_ratings_60657 = just_ratings.loc[just_ratings[\"rating\"]>=3]\n",
    "just_ratings_60613 = just_ratings.loc[just_ratings[\"rating\"]>=3]\n",
    "ratings_60657 = just_ratings_60657.loc[just_ratings_60657[\"zip code\"] == 60657]\n",
    "ratings_60613 = just_ratings_60613.loc[just_ratings_60613[\"zip code\"] == 60613]"
   ]
  },
  {
   "cell_type": "code",
   "execution_count": null,
   "id": "c6ea1994",
   "metadata": {},
   "outputs": [],
   "source": [
    "_60657_locations = ratings_60657[[\"latitude\", \"longitude\"]]\n",
    "_60613_locations = ratings_60613[[\"latitude\", \"longitude\"]]\n",
    "fig = gmaps.figure()\n",
    "_60657_symbols = gmaps.symbol_layer(_60657_locations, fill_color=\"blue\", stroke_color = \"blue\")\n",
    "fig.add_layer(_60657_symbols)\n",
    "_60613_symbols = gmaps.symbol_layer(_60613_locations, fill_color=\"red\", stroke_color = \"red\")\n",
    "fig.add_layer(_60613_symbols)\n",
    "fig\n",
    "# add review counts of over 100\n",
    "#add different colors for different types of food"
   ]
  },
  {
   "cell_type": "code",
   "execution_count": null,
   "id": "8157a297",
   "metadata": {},
   "outputs": [],
   "source": [
    "#create a dataframe of 60657 and 60613 with 2-3 rating and a pass\n",
    "beer_data = data.loc[data[\"rating\"] >= 2]\n",
    "beer_data = beer_data.loc[beer_data[\"rating\"] <= 3]"
   ]
  },
  {
   "cell_type": "code",
   "execution_count": null,
   "id": "4317758f",
   "metadata": {},
   "outputs": [],
   "source": [
    "#create bar graph for each zip code for differnet variables (price/ratings/inspections)"
   ]
  },
  {
   "cell_type": "code",
   "execution_count": null,
   "id": "dbb0877e",
   "metadata": {},
   "outputs": [],
   "source": []
  },
  {
   "cell_type": "code",
   "execution_count": null,
   "id": "edc3ae5c",
   "metadata": {},
   "outputs": [],
   "source": []
  }
 ],
 "metadata": {
  "kernelspec": {
   "display_name": "Python 3 (ipykernel)",
   "language": "python",
   "name": "python3"
  },
  "language_info": {
   "codemirror_mode": {
    "name": "ipython",
    "version": 3
   },
   "file_extension": ".py",
   "mimetype": "text/x-python",
   "name": "python",
   "nbconvert_exporter": "python",
   "pygments_lexer": "ipython3",
   "version": "3.9.7"
  }
 },
 "nbformat": 4,
 "nbformat_minor": 5
}
