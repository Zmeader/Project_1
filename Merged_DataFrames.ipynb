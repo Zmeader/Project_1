{
 "cells": [
  {
   "cell_type": "markdown",
   "id": "7e5f49a6",
   "metadata": {},
   "source": [
    "# This is where the merged dataframe is created and cleaned\n"
   ]
  },
  {
   "cell_type": "code",
   "execution_count": null,
   "id": "caf23afe",
   "metadata": {},
   "outputs": [],
   "source": [
    "# Import dependencies\n",
    "from pprint import pprint\n",
    "import pandas as pd \n",
    "import requests\n",
    "import numpy as np\n",
    "\n",
    "import matplotlib.pyplot as plt\n",
    "import pandas as pd\n",
    "import scipy.stats as st\n",
    "import numpy as np\n",
    "from scipy.stats import linregress\n",
    "from sklearn import datasets\n",
    "\n",
    "#yelp_api_key = "
   ]
  },
  {
   "cell_type": "code",
   "execution_count": null,
   "id": "749b47fe",
   "metadata": {},
   "outputs": [],
   "source": [
    "#import the API data\n",
    "yelp_csv = pd.read_csv('yelp_csv/yelp_csv_CLEAN2.csv', dtype=object)\n",
    "yelp_csv.head(5)"
   ]
  },
  {
   "cell_type": "code",
   "execution_count": null,
   "id": "15f21d67",
   "metadata": {},
   "outputs": [],
   "source": [
    "#import the API data\n",
    "inspection = pd.read_csv('Inspection_Data/Inspection_Data_Clean2.csv', dtype=object)\n",
    "inspection.head(5)"
   ]
  },
  {
   "cell_type": "code",
   "execution_count": null,
   "id": "65aae4be",
   "metadata": {},
   "outputs": [],
   "source": [
    "inspection.duplicated()"
   ]
  },
  {
   "cell_type": "code",
   "execution_count": null,
   "id": "ce07b6b4",
   "metadata": {},
   "outputs": [],
   "source": [
    "inspection = inspection.rename(columns={'Address': 'address1', 'Zip': 'zip code'})"
   ]
  },
  {
   "cell_type": "code",
   "execution_count": null,
   "id": "7ad2c5f8",
   "metadata": {},
   "outputs": [],
   "source": [
    "#eventually to merge\n",
    "Merged = pd.merge(yelp_csv, inspection, how=\"right\", on=['address1'])\n",
    "Merged"
   ]
  },
  {
   "cell_type": "code",
   "execution_count": null,
   "id": "415475f8",
   "metadata": {},
   "outputs": [],
   "source": [
    "Merged.to_csv('Merged.csv', index=False)"
   ]
  },
  {
   "cell_type": "code",
   "execution_count": null,
   "id": "5568d447",
   "metadata": {},
   "outputs": [],
   "source": [
    "Merged['name'].replace('', np.nan, inplace=True)\n",
    "Merged.dropna(subset=['name'], inplace=True)"
   ]
  },
  {
   "cell_type": "code",
   "execution_count": null,
   "id": "8de25600",
   "metadata": {},
   "outputs": [],
   "source": [
    "Merged"
   ]
  },
  {
   "cell_type": "code",
   "execution_count": null,
   "id": "f29bf676",
   "metadata": {},
   "outputs": [],
   "source": [
    "Merged.to_csv('Merged_Clean.csv', index=False)"
   ]
  },
  {
   "cell_type": "code",
   "execution_count": null,
   "id": "89800eba",
   "metadata": {},
   "outputs": [],
   "source": []
  }
 ],
 "metadata": {
  "kernelspec": {
   "display_name": "Python [conda env:PythonData38]",
   "language": "python",
   "name": "conda-env-PythonData38-py"
  },
  "language_info": {
   "codemirror_mode": {
    "name": "ipython",
    "version": 3
   },
   "file_extension": ".py",
   "mimetype": "text/x-python",
   "name": "python",
   "nbconvert_exporter": "python",
   "pygments_lexer": "ipython3",
   "version": "3.8.12"
  }
 },
 "nbformat": 4,
 "nbformat_minor": 5
}
