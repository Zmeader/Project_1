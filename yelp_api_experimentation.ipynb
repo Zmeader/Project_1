{
 "cells": [
  {
   "cell_type": "markdown",
   "id": "19f13433",
   "metadata": {},
   "source": [
    "### NOTES:\n",
    "This currently only iterates through 4 zip codes. If we feed it the ~70 zip codes in Chicago, it's going to take a long time to run and will use a lot of the daily API limit. Note that there's an API limit of 5000 calls per day. If we are running 70 zip codes, it will result in approx 1,400 API calls since the API returns results in groups of 50 (to a total limit of 1000), so we're basically running each zip code 20 times in groups of 50. There is probably a way to optimize this process. Alternatively, once we agree on the code, we can just generate a csv for all of our data cleaning so this API doesn't need to be run a bunch."
   ]
  },
  {
   "cell_type": "code",
   "execution_count": null,
   "id": "7c0b39d6",
   "metadata": {},
   "outputs": [],
   "source": [
    "# Import dependencies\n",
    "from pprint import pprint\n",
    "import pandas as pd \n",
    "import requests\n",
    "import numpy as np\n",
    "\n",
    "from config import yelp_api_key"
   ]
  },
  {
   "cell_type": "code",
   "execution_count": null,
   "id": "78a7e242",
   "metadata": {
    "scrolled": true
   },
   "outputs": [],
   "source": [
    "# Generate offsets list to loop through more than 50 results up to 1000\n",
    "offsets = np.arange(0,1000,50)\n",
    "offsets"
   ]
  },
  {
   "cell_type": "code",
   "execution_count": null,
   "id": "07db70b4",
   "metadata": {},
   "outputs": [],
   "source": [
    "# Loop through Chicago zip codes \n",
    "chi_zips = [\"60622\",\"60657\",\"60645\",\"60603\"]"
   ]
  },
  {
   "cell_type": "code",
   "execution_count": null,
   "id": "a637ffd7",
   "metadata": {},
   "outputs": [],
   "source": [
    "# Set empty list to store total search results per zip code\n",
    "totals = []"
   ]
  },
  {
   "cell_type": "code",
   "execution_count": null,
   "id": "f8e2d100",
   "metadata": {},
   "outputs": [],
   "source": [
    "# Set empty lists to store restaurant info\n",
    "name = []\n",
    "category = []\n",
    "category_title = []\n",
    "rating = []\n",
    "price = []\n",
    "review_count = []\n",
    "address = []\n",
    "latitude = []\n",
    "longitude = []\n",
    "zip_code = []\n",
    "restaurant_id = []"
   ]
  },
  {
   "cell_type": "code",
   "execution_count": null,
   "id": "e6c2d810",
   "metadata": {},
   "outputs": [],
   "source": [
    "# Yelp Fusion API info here: https://www.yelp.com/developers/documentation/v3/business_search\n",
    "base_url = \"https://api.yelp.com/v3/businesses/search\"\n",
    "\n",
    "# Loop through Chicago zip codes list\n",
    "for zips in chi_zips:\n",
    "    \n",
    "    location = f'Chicago, {zips}'\n",
    "    \n",
    "    # Loop through offsets to get each group of 50 results\n",
    "    for offset in offsets:\n",
    "        params = {'term' : 'restaurant',\n",
    "                  'location' : location,\n",
    "                  'limit' : 50,\n",
    "                  'offset' : offset}\n",
    "\n",
    "        # Headers contain the API key\n",
    "        headers = {'Authorization': 'Bearer {}'.format(yelp_api_key)}\n",
    "\n",
    "        # Place request\n",
    "        response = requests.get(base_url, headers=headers, params=params)\n",
    "\n",
    "        # JSON-ify data\n",
    "        data = response.json()\n",
    "\n",
    "        # Loop through number of businesses and append values to lists\n",
    "        for i in range(len(data['businesses'])):\n",
    "\n",
    "            # Append values to lists\n",
    "            try:\n",
    "                name.append(data['businesses'][i]['name'])\n",
    "            except KeyError:\n",
    "                name.append(np.nan)\n",
    "                \n",
    "            try:\n",
    "                rating.append(data['businesses'][i]['rating'])\n",
    "            except KeyError:\n",
    "                rating.append(np.nan)\n",
    "                \n",
    "            try:\n",
    "                price.append(data['businesses'][i]['price'])\n",
    "            except KeyError:\n",
    "                price.append(np.nan)\n",
    "\n",
    "            try:\n",
    "                review_count.append(data['businesses'][i]['review_count'])\n",
    "            except KeyError:\n",
    "                review_count.append(np.nan)\n",
    "\n",
    "            try:\n",
    "                address.append(data['businesses'][i]['location']['display_address'])\n",
    "            except KeyError:\n",
    "                address.append(np.nan)\n",
    "\n",
    "            try:\n",
    "                latitude.append(data['businesses'][i]['coordinates']['latitude'])\n",
    "            except KeyError:\n",
    "                latitude.append(np.nan)\n",
    "\n",
    "            try:\n",
    "                longitude.append(data['businesses'][i]['coordinates']['longitude'])\n",
    "            except KeyError:\n",
    "                longitude.append(np.nan)\n",
    "\n",
    "            try:\n",
    "                zip_code.append(data['businesses'][i]['location']['zip_code'])\n",
    "            except KeyError:\n",
    "                zip_code.append(np.nan)\n",
    "\n",
    "            try:\n",
    "                restaurant_id.append(data['businesses'][i]['id'])\n",
    "            except:\n",
    "                restaurant_id.append(np.nan)\n",
    "                \n",
    "            try:\n",
    "                category.append(data['businesses'][i]['categories'][0]['alias'])\n",
    "            except:\n",
    "                category.append(np.nan)\n",
    "                \n",
    "            try:\n",
    "                category_title.append(data['businesses'][i]['categories'][0]['title'])\n",
    "            except:\n",
    "                category_title.append(np.nan)\n",
    "        \n",
    "        totals.append(data['total'])\n",
    "    "
   ]
  },
  {
   "cell_type": "code",
   "execution_count": null,
   "id": "66d2da06",
   "metadata": {},
   "outputs": [],
   "source": [
    "pprint(data)"
   ]
  },
  {
   "cell_type": "code",
   "execution_count": null,
   "id": "bb419ff6",
   "metadata": {},
   "outputs": [],
   "source": [
    "# Stores number of results per zip code\n",
    "totals = pd.Series(totals).unique()\n",
    "totals"
   ]
  },
  {
   "cell_type": "code",
   "execution_count": null,
   "id": "e841d04e",
   "metadata": {},
   "outputs": [],
   "source": [
    "# Build datadrame from lists \n",
    "restaurants_df = pd.DataFrame({'name' : name,\n",
    "                              'category' : category,\n",
    "                              'category_title' : category_title, \n",
    "                              'rating' : rating,\n",
    "                              'price' : price,\n",
    "                              'review_count' : review_count,\n",
    "                              'address' : address,\n",
    "                              'latitude' : latitude,\n",
    "                              'longitude' : longitude,\n",
    "                              'zip code' : zip_code,\n",
    "                              'restaurant_id' : restaurant_id})"
   ]
  },
  {
   "cell_type": "code",
   "execution_count": null,
   "id": "d80ce03c",
   "metadata": {
    "scrolled": false
   },
   "outputs": [],
   "source": [
    "# View dataframe\n",
    "restaurants_df"
   ]
  },
  {
   "cell_type": "code",
   "execution_count": null,
   "id": "06de4bfe",
   "metadata": {},
   "outputs": [],
   "source": [
    "# Check the number of unique restaurant IDs\n",
    "len(restaurants_df['restaurant_id'].unique())"
   ]
  },
  {
   "cell_type": "code",
   "execution_count": null,
   "id": "b90d52da",
   "metadata": {},
   "outputs": [],
   "source": [
    "restaurants_df.count()"
   ]
  },
  {
   "cell_type": "code",
   "execution_count": null,
   "id": "90be3f35",
   "metadata": {},
   "outputs": [],
   "source": [
    "# Inspect data to see how many zip codes we have in the existing dataframe\n",
    "restaurants_df['zip code'].value_counts()"
   ]
  },
  {
   "cell_type": "code",
   "execution_count": null,
   "id": "ab1e5e16",
   "metadata": {},
   "outputs": [],
   "source": []
  }
 ],
 "metadata": {
  "kernelspec": {
   "display_name": "Python [conda env:PythonData38] *",
   "language": "python",
   "name": "conda-env-PythonData38-py"
  },
  "language_info": {
   "codemirror_mode": {
    "name": "ipython",
    "version": 3
   },
   "file_extension": ".py",
   "mimetype": "text/x-python",
   "name": "python",
   "nbconvert_exporter": "python",
   "pygments_lexer": "ipython3",
   "version": "3.8.12"
  }
 },
 "nbformat": 4,
 "nbformat_minor": 5
}
