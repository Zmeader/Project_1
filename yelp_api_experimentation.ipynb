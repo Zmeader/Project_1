{
 "cells": [
  {
   "cell_type": "code",
   "execution_count": null,
   "id": "cc4bf97f",
   "metadata": {},
   "outputs": [],
   "source": [
    "# Import dependencies\n",
    "from pprint import pprint\n",
    "import pandas as pd \n",
    "import requests\n",
    "\n",
    "from config import yelp_api_key"
   ]
  },
  {
   "cell_type": "code",
   "execution_count": null,
   "id": "e6c2d810",
   "metadata": {},
   "outputs": [],
   "source": [
    "# Yelp Fusion API info here: https://www.yelp.com/developers/documentation/v3/business_search\n",
    "base_url = \"https://api.yelp.com/v3/businesses/search\"\n",
    "\n",
    "# currently just searching restaurants in 60622 area code and limiting to 5 results\n",
    "# Yelp API has a limit of 1000 listings returned per call\n",
    "# EG proposes looping through all Chicago zip codes to get complete list\n",
    "\n",
    "params = {'term' : 'restaurant',\n",
    "          'location' : 'Chicago, 60622',\n",
    "          'limit' : 5}\n",
    "\n",
    "# Headers contain the api key\n",
    "headers = {'Authorization': 'Bearer {}'.format(yelp_api_key)}\n",
    "\n",
    "# Place request\n",
    "response = requests.get(base_url, headers=headers, params=params)"
   ]
  },
  {
   "cell_type": "code",
   "execution_count": null,
   "id": "ac343dec",
   "metadata": {},
   "outputs": [],
   "source": [
    "data = response.json()"
   ]
  },
  {
   "cell_type": "code",
   "execution_count": null,
   "id": "b5c079bd",
   "metadata": {},
   "outputs": [],
   "source": [
    "# Check how many restaurants returned from API call\n",
    "len(data['businesses'])"
   ]
  },
  {
   "cell_type": "code",
   "execution_count": null,
   "id": "c7b986c3",
   "metadata": {},
   "outputs": [],
   "source": [
    "# Set empty lists to store restaurant info\n",
    "name = []\n",
    "rating = []\n",
    "price = []\n",
    "review_count = []\n",
    "address = []\n",
    "latitude = []\n",
    "longitude = []\n",
    "zip_code = []\n",
    "\n",
    "# Loop through number of businesses and append values to lists\n",
    "for i in range(len(data['businesses'])):\n",
    "    name.append(data['businesses'][i]['name'])\n",
    "    rating.append(data['businesses'][i]['rating'])\n",
    "    price.append(data['businesses'][i]['price'])\n",
    "    review_count.append(data['businesses'][i]['review_count'])\n",
    "    address.append(data['businesses'][i]['location']['display_address'])\n",
    "    latitude.append(data['businesses'][i]['coordinates']['latitude'])\n",
    "    longitude.append(data['businesses'][i]['coordinates']['longitude'])\n",
    "    zip_code.append(data['businesses'][i]['location']['zip_code'])"
   ]
  },
  {
   "cell_type": "code",
   "execution_count": null,
   "id": "e841d04e",
   "metadata": {},
   "outputs": [],
   "source": [
    "# Build datadrame from lists \n",
    "restaurants_df = pd.DataFrame({'name' : name,\n",
    "                              'rating' : rating,\n",
    "                              'price' : price,\n",
    "                              'review_count' : review_count,\n",
    "                              'address' : address,\n",
    "                              'latitude' : latitude,\n",
    "                              'longitude' : longitude,\n",
    "                              'zip code' : zip_code})"
   ]
  },
  {
   "cell_type": "code",
   "execution_count": null,
   "id": "d80ce03c",
   "metadata": {},
   "outputs": [],
   "source": [
    "# View dataframe\n",
    "restaurants_df"
   ]
  }
 ],
 "metadata": {
  "kernelspec": {
   "display_name": "Python [conda env:PythonData38] *",
   "language": "python",
   "name": "conda-env-PythonData38-py"
  },
  "language_info": {
   "codemirror_mode": {
    "name": "ipython",
    "version": 3
   },
   "file_extension": ".py",
   "mimetype": "text/x-python",
   "name": "python",
   "nbconvert_exporter": "python",
   "pygments_lexer": "ipython3",
   "version": "3.8.12"
  }
 },
 "nbformat": 4,
 "nbformat_minor": 5
}
