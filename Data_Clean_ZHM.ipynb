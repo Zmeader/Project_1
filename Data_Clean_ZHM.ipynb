{
 "cells": [
  {
   "cell_type": "code",
   "execution_count": null,
   "id": "73147144",
   "metadata": {},
   "outputs": [],
   "source": [
    "import matplotlib.pyplot as plt\n",
    "import pandas as pd\n",
    "import numpy as np\n",
    "import requests\n",
    "import time\n",
    "from scipy.stats import linregress\n",
    "\n",
    "from citipy import citipy\n",
    "from config import yelp_key\n",
    "from config import g_key"
   ]
  },
  {
   "cell_type": "code",
   "execution_count": null,
   "id": "969878f4",
   "metadata": {},
   "outputs": [],
   "source": [
    "rest_df = pd.read_csv(\"yelp_csv/yelp_csv.csv\")\n",
    "rest_df"
   ]
  },
  {
   "cell_type": "code",
   "execution_count": null,
   "id": "fa803cc1",
   "metadata": {},
   "outputs": [],
   "source": [
    "updated_df = rest_df.set_index(\"name\")\n",
    "updated_df"
   ]
  },
  {
   "cell_type": "code",
   "execution_count": null,
   "id": "8d048cb2",
   "metadata": {},
   "outputs": [],
   "source": [
    "updated_df = updated_df.dropna()\n"
   ]
  }
 ],
 "metadata": {
  "kernelspec": {
   "display_name": "Python 3 (ipykernel)",
   "language": "python",
   "name": "python3"
  },
  "language_info": {
   "codemirror_mode": {
    "name": "ipython",
    "version": 3
   },
   "file_extension": ".py",
   "mimetype": "text/x-python",
   "name": "python",
   "nbconvert_exporter": "python",
   "pygments_lexer": "ipython3",
   "version": "3.9.7"
  }
 },
 "nbformat": 4,
 "nbformat_minor": 5
}
