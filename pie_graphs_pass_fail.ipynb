{
 "cells": [
  {
   "cell_type": "code",
   "execution_count": 1,
   "id": "e9e7e4d8",
   "metadata": {},
   "outputs": [],
   "source": [
    "# Import dependencies\n",
    "from pprint import pprint\n",
    "import pandas as pd \n",
    "import requests\n",
    "import numpy as np\n",
    "\n",
    "import matplotlib.pyplot as plt\n",
    "import pandas as pd\n",
    "import scipy.stats as st\n",
    "import numpy as np\n",
    "from scipy.stats import linregress\n",
    "from sklearn import datasets\n",
    "\n",
    "import gmaps\n",
    "import os\n",
    "import json\n",
    "import time\n",
    "from config import g_key"
   ]
  },
  {
   "cell_type": "code",
   "execution_count": 2,
   "id": "4aeeaeda",
   "metadata": {},
   "outputs": [
    {
     "data": {
      "text/html": [
       "<div>\n",
       "<style scoped>\n",
       "    .dataframe tbody tr th:only-of-type {\n",
       "        vertical-align: middle;\n",
       "    }\n",
       "\n",
       "    .dataframe tbody tr th {\n",
       "        vertical-align: top;\n",
       "    }\n",
       "\n",
       "    .dataframe thead th {\n",
       "        text-align: right;\n",
       "    }\n",
       "</style>\n",
       "<table border=\"1\" class=\"dataframe\">\n",
       "  <thead>\n",
       "    <tr style=\"text-align: right;\">\n",
       "      <th></th>\n",
       "      <th>Unnamed: 0.1</th>\n",
       "      <th>AKA Name</th>\n",
       "      <th>Facility Type</th>\n",
       "      <th>Risk</th>\n",
       "      <th>Address</th>\n",
       "      <th>Zip</th>\n",
       "      <th>Year</th>\n",
       "      <th>Inspection Type</th>\n",
       "      <th>Results</th>\n",
       "      <th>Violations</th>\n",
       "      <th>...</th>\n",
       "      <th>display_address</th>\n",
       "      <th>address1</th>\n",
       "      <th>address2</th>\n",
       "      <th>address3</th>\n",
       "      <th>city</th>\n",
       "      <th>latitude</th>\n",
       "      <th>longitude</th>\n",
       "      <th>zip code</th>\n",
       "      <th>restaurant_id</th>\n",
       "      <th>price_integer</th>\n",
       "    </tr>\n",
       "  </thead>\n",
       "  <tbody>\n",
       "    <tr>\n",
       "      <th>0</th>\n",
       "      <td>0</td>\n",
       "      <td>AREPA GEORGE</td>\n",
       "      <td>Restaurant</td>\n",
       "      <td>Risk 1 (High)</td>\n",
       "      <td>1552 N KEDZIE AVE</td>\n",
       "      <td>60651.0</td>\n",
       "      <td>2021</td>\n",
       "      <td>Canvass</td>\n",
       "      <td>Pass</td>\n",
       "      <td>NaN</td>\n",
       "      <td>...</td>\n",
       "      <td>['1552 N Kedzie Ave', 'Chicago, IL 60651']</td>\n",
       "      <td>1552 N Kedzie Ave</td>\n",
       "      <td>NaN</td>\n",
       "      <td>NaN</td>\n",
       "      <td>Chicago</td>\n",
       "      <td>41.909745</td>\n",
       "      <td>-87.707155</td>\n",
       "      <td>60651</td>\n",
       "      <td>3nOO3B9xoASM9XLzJfbHDg</td>\n",
       "      <td>2.0</td>\n",
       "    </tr>\n",
       "    <tr>\n",
       "      <th>1</th>\n",
       "      <td>1</td>\n",
       "      <td>AREPA GEORGE</td>\n",
       "      <td>Restaurant</td>\n",
       "      <td>Risk 1 (High)</td>\n",
       "      <td>1552 N KEDZIE AVE</td>\n",
       "      <td>60651.0</td>\n",
       "      <td>2020</td>\n",
       "      <td>Canvass</td>\n",
       "      <td>Pass</td>\n",
       "      <td>47. FOOD &amp; NON-FOOD CONTACT SURFACES CLEANABLE...</td>\n",
       "      <td>...</td>\n",
       "      <td>['1552 N Kedzie Ave', 'Chicago, IL 60651']</td>\n",
       "      <td>1552 N Kedzie Ave</td>\n",
       "      <td>NaN</td>\n",
       "      <td>NaN</td>\n",
       "      <td>Chicago</td>\n",
       "      <td>41.909745</td>\n",
       "      <td>-87.707155</td>\n",
       "      <td>60651</td>\n",
       "      <td>3nOO3B9xoASM9XLzJfbHDg</td>\n",
       "      <td>2.0</td>\n",
       "    </tr>\n",
       "    <tr>\n",
       "      <th>2</th>\n",
       "      <td>2</td>\n",
       "      <td>GRAND LUX CAFE</td>\n",
       "      <td>Restaurant</td>\n",
       "      <td>Risk 1 (High)</td>\n",
       "      <td>111 E ONTARIO ST</td>\n",
       "      <td>60611.0</td>\n",
       "      <td>2021</td>\n",
       "      <td>Short Form Complaint</td>\n",
       "      <td>Pass</td>\n",
       "      <td>NaN</td>\n",
       "      <td>...</td>\n",
       "      <td>['600 N Michigan Ave', 'Chicago, IL 60611']</td>\n",
       "      <td>600 N Michigan Ave</td>\n",
       "      <td>NaN</td>\n",
       "      <td>NaN</td>\n",
       "      <td>Chicago</td>\n",
       "      <td>41.892896</td>\n",
       "      <td>-87.624868</td>\n",
       "      <td>60611</td>\n",
       "      <td>HSvG0P-1Qt1G8avx7B3mCg</td>\n",
       "      <td>2.0</td>\n",
       "    </tr>\n",
       "    <tr>\n",
       "      <th>3</th>\n",
       "      <td>3</td>\n",
       "      <td>GRAND LUX CAFE</td>\n",
       "      <td>Restaurant</td>\n",
       "      <td>Risk 1 (High)</td>\n",
       "      <td>111 E ONTARIO ST</td>\n",
       "      <td>60611.0</td>\n",
       "      <td>2021</td>\n",
       "      <td>Complaint</td>\n",
       "      <td>Fail</td>\n",
       "      <td>48. WAREWASHING FACILITIES: INSTALLED, MAINTAI...</td>\n",
       "      <td>...</td>\n",
       "      <td>['600 N Michigan Ave', 'Chicago, IL 60611']</td>\n",
       "      <td>600 N Michigan Ave</td>\n",
       "      <td>NaN</td>\n",
       "      <td>NaN</td>\n",
       "      <td>Chicago</td>\n",
       "      <td>41.892896</td>\n",
       "      <td>-87.624868</td>\n",
       "      <td>60611</td>\n",
       "      <td>HSvG0P-1Qt1G8avx7B3mCg</td>\n",
       "      <td>2.0</td>\n",
       "    </tr>\n",
       "    <tr>\n",
       "      <th>4</th>\n",
       "      <td>4</td>\n",
       "      <td>GRAND LUX CAFE</td>\n",
       "      <td>Restaurant</td>\n",
       "      <td>Risk 1 (High)</td>\n",
       "      <td>111 E ONTARIO ST</td>\n",
       "      <td>60611.0</td>\n",
       "      <td>2021</td>\n",
       "      <td>Complaint Re-Inspection</td>\n",
       "      <td>Pass</td>\n",
       "      <td>NaN</td>\n",
       "      <td>...</td>\n",
       "      <td>['600 N Michigan Ave', 'Chicago, IL 60611']</td>\n",
       "      <td>600 N Michigan Ave</td>\n",
       "      <td>NaN</td>\n",
       "      <td>NaN</td>\n",
       "      <td>Chicago</td>\n",
       "      <td>41.892896</td>\n",
       "      <td>-87.624868</td>\n",
       "      <td>60611</td>\n",
       "      <td>HSvG0P-1Qt1G8avx7B3mCg</td>\n",
       "      <td>2.0</td>\n",
       "    </tr>\n",
       "  </tbody>\n",
       "</table>\n",
       "<p>5 rows × 32 columns</p>\n",
       "</div>"
      ],
      "text/plain": [
       "   Unnamed: 0.1        AKA Name Facility Type           Risk  \\\n",
       "0             0    AREPA GEORGE    Restaurant  Risk 1 (High)   \n",
       "1             1    AREPA GEORGE    Restaurant  Risk 1 (High)   \n",
       "2             2  GRAND LUX CAFE    Restaurant  Risk 1 (High)   \n",
       "3             3  GRAND LUX CAFE    Restaurant  Risk 1 (High)   \n",
       "4             4  GRAND LUX CAFE    Restaurant  Risk 1 (High)   \n",
       "\n",
       "              Address      Zip  Year          Inspection Type Results  \\\n",
       "0  1552 N KEDZIE AVE   60651.0  2021                  Canvass    Pass   \n",
       "1  1552 N KEDZIE AVE   60651.0  2020                  Canvass    Pass   \n",
       "2   111 E ONTARIO ST   60611.0  2021     Short Form Complaint    Pass   \n",
       "3   111 E ONTARIO ST   60611.0  2021                Complaint    Fail   \n",
       "4   111 E ONTARIO ST   60611.0  2021  Complaint Re-Inspection    Pass   \n",
       "\n",
       "                                          Violations  ...  \\\n",
       "0                                                NaN  ...   \n",
       "1  47. FOOD & NON-FOOD CONTACT SURFACES CLEANABLE...  ...   \n",
       "2                                                NaN  ...   \n",
       "3  48. WAREWASHING FACILITIES: INSTALLED, MAINTAI...  ...   \n",
       "4                                                NaN  ...   \n",
       "\n",
       "                               display_address            address1  address2  \\\n",
       "0   ['1552 N Kedzie Ave', 'Chicago, IL 60651']   1552 N Kedzie Ave       NaN   \n",
       "1   ['1552 N Kedzie Ave', 'Chicago, IL 60651']   1552 N Kedzie Ave       NaN   \n",
       "2  ['600 N Michigan Ave', 'Chicago, IL 60611']  600 N Michigan Ave       NaN   \n",
       "3  ['600 N Michigan Ave', 'Chicago, IL 60611']  600 N Michigan Ave       NaN   \n",
       "4  ['600 N Michigan Ave', 'Chicago, IL 60611']  600 N Michigan Ave       NaN   \n",
       "\n",
       "   address3     city   latitude  longitude zip code           restaurant_id  \\\n",
       "0       NaN  Chicago  41.909745 -87.707155    60651  3nOO3B9xoASM9XLzJfbHDg   \n",
       "1       NaN  Chicago  41.909745 -87.707155    60651  3nOO3B9xoASM9XLzJfbHDg   \n",
       "2       NaN  Chicago  41.892896 -87.624868    60611  HSvG0P-1Qt1G8avx7B3mCg   \n",
       "3       NaN  Chicago  41.892896 -87.624868    60611  HSvG0P-1Qt1G8avx7B3mCg   \n",
       "4       NaN  Chicago  41.892896 -87.624868    60611  HSvG0P-1Qt1G8avx7B3mCg   \n",
       "\n",
       "   price_integer  \n",
       "0            2.0  \n",
       "1            2.0  \n",
       "2            2.0  \n",
       "3            2.0  \n",
       "4            2.0  \n",
       "\n",
       "[5 rows x 32 columns]"
      ]
     },
     "execution_count": 2,
     "metadata": {},
     "output_type": "execute_result"
    }
   ],
   "source": [
    "merged_clean = pd.read_csv('data/yelp_inspection_merge.csv')\n",
    "merged_clean.head()\n"
   ]
  },
  {
   "cell_type": "code",
   "execution_count": 3,
   "id": "fc2368fd",
   "metadata": {},
   "outputs": [
    {
     "data": {
      "text/plain": [
       "array([2021, 2020, 2022])"
      ]
     },
     "execution_count": 3,
     "metadata": {},
     "output_type": "execute_result"
    }
   ],
   "source": [
    "pf = merged_clean[\"Year\"].unique()\n",
    "pf"
   ]
  },
  {
   "cell_type": "markdown",
   "id": "270e38e1",
   "metadata": {},
   "source": [
    "# Failed"
   ]
  },
  {
   "cell_type": "code",
   "execution_count": 4,
   "id": "b247b278",
   "metadata": {},
   "outputs": [],
   "source": [
    "#DataFrame for Restaurant with Failed Status\n",
    "failed_df = merged_clean.loc[merged_clean[\"Results\"] == \"Fail\"]"
   ]
  },
  {
   "cell_type": "code",
   "execution_count": 5,
   "id": "04ffed2b",
   "metadata": {},
   "outputs": [],
   "source": [
    "fail = pd.DataFrame(failed_df, columns = ['name','review_count','category','category_title','Risk', 'price_integer',\n",
    "                                                'rating', 'Year', 'zip code_y','address1','price','Inspection Type','Results','Violations','Latitude','Longitude'])\n",
    "#fail.head(5)\n"
   ]
  },
  {
   "cell_type": "code",
   "execution_count": 6,
   "id": "2ea1067b",
   "metadata": {},
   "outputs": [],
   "source": [
    "#create link for gmaps\n",
    "gmaps.configure(api_key = g_key)"
   ]
  },
  {
   "cell_type": "code",
   "execution_count": 7,
   "id": "57196020",
   "metadata": {},
   "outputs": [],
   "source": [
    "# configure gmaps for lat/lng vs rating based on . Store latitude and longitude in locations\n",
    "locations_f = fail[[\"Latitude\", \"Longitude\"]]\n",
    "\n",
    "# Fill NaN values and convert to float\n",
    "rating = fail[\"rating\"].astype(float)"
   ]
  },
  {
   "cell_type": "code",
   "execution_count": 8,
   "id": "42a3b08d",
   "metadata": {},
   "outputs": [
    {
     "data": {
      "application/vnd.jupyter.widget-view+json": {
       "model_id": "857bc26c45bc48d08384e4998cad657e",
       "version_major": 2,
       "version_minor": 0
      },
      "text/plain": [
       "Figure(layout=FigureLayout(height='420px'))"
      ]
     },
     "metadata": {},
     "output_type": "display_data"
    }
   ],
   "source": [
    "# Plot Heatmap\n",
    "fig = gmaps.figure()\n",
    "\n",
    "# Create heat layer\n",
    "heat_layer = gmaps.heatmap_layer(locations_f, weights=rating, \n",
    "                                 dissipating=False, max_intensity=300,\n",
    "                                 point_radius=50)\n",
    "\n",
    "# Add layer\n",
    "fig.add_layer(heat_layer)\n",
    "\n",
    "# Display figure\n",
    "fig"
   ]
  },
  {
   "cell_type": "code",
   "execution_count": 9,
   "id": "e28dfecd",
   "metadata": {},
   "outputs": [
    {
     "data": {
      "application/vnd.jupyter.widget-view+json": {
       "model_id": "a8058a3abadf454da2e4b0373a37222d",
       "version_major": 2,
       "version_minor": 0
      },
      "text/plain": [
       "Figure(layout=FigureLayout(border='1px solid black', height='300px', margin='0 auto 0 auto', padding='1px', wi…"
      ]
     },
     "metadata": {},
     "output_type": "display_data"
    }
   ],
   "source": [
    "#configure a map with all the points\n",
    "figure = {\n",
    "    'width': '400px',\n",
    "    'height': '300px',\n",
    "    'border': '1px solid black',\n",
    "    'padding': '1px',\n",
    "    'margin': '0 auto 0 auto'\n",
    "}\n",
    "fig = gmaps.figure(layout=figure)\n",
    "\n",
    "#Add markers\n",
    "markers = gmaps.marker_layer(locations_f)\n",
    "# Add the layer to the map\n",
    "fig.add_layer(markers)\n",
    "fig"
   ]
  },
  {
   "cell_type": "code",
   "execution_count": 10,
   "id": "00174c06",
   "metadata": {},
   "outputs": [
    {
     "data": {
      "text/plain": [
       "array([2021, 2020, 2022])"
      ]
     },
     "execution_count": 10,
     "metadata": {},
     "output_type": "execute_result"
    }
   ],
   "source": [
    "f = failed_df[\"Year\"].unique()\n",
    "f"
   ]
  },
  {
   "cell_type": "markdown",
   "id": "04e74041",
   "metadata": {},
   "source": [
    "# Passing DataFrame"
   ]
  },
  {
   "cell_type": "code",
   "execution_count": 11,
   "id": "1fee14ba",
   "metadata": {},
   "outputs": [],
   "source": [
    "#DataFrame for Restaurant with Passed Status\n",
    "passed_df = merged_clean.loc[merged_clean[\"Results\"] == \"Pass\"]\n",
    "pass_df = pd.DataFrame(passed_df, columns = ['name','review_count','category','category_title','Risk', 'price_integer',\n",
    "                                                'rating', 'Year', 'zip code_y','address1','price','Inspection Type','Results','Violations','Latitude','Longitude'])\n",
    "#pass_df.head(5)"
   ]
  },
  {
   "cell_type": "markdown",
   "id": "65cae44c",
   "metadata": {},
   "source": [
    "Heat Map Rating with Lat/Lng: use Latitude, Longitude and Rating as weight"
   ]
  },
  {
   "cell_type": "code",
   "execution_count": 12,
   "id": "543c9b81",
   "metadata": {},
   "outputs": [],
   "source": [
    "#configure gmaps for lat/lng vs rating\n",
    "\n",
    "# Store latitude and longitude in locations\n",
    "locations = pass_df[[\"Latitude\", \"Longitude\"]]\n",
    "\n",
    "# Fill NaN values and convert to float\n",
    "rating = pass_df[\"rating\"].astype(float)"
   ]
  },
  {
   "cell_type": "code",
   "execution_count": 13,
   "id": "3acbd4d9",
   "metadata": {},
   "outputs": [
    {
     "data": {
      "application/vnd.jupyter.widget-view+json": {
       "model_id": "b9ccf7ceee664114976536d5af58f4e4",
       "version_major": 2,
       "version_minor": 0
      },
      "text/plain": [
       "Figure(layout=FigureLayout(height='420px'))"
      ]
     },
     "metadata": {},
     "output_type": "display_data"
    }
   ],
   "source": [
    "# Plot Heatmap\n",
    "fig = gmaps.figure()\n",
    "\n",
    "# Create heat layer\n",
    "heat_layer = gmaps.heatmap_layer(locations, weights=rating, \n",
    "                                 dissipating=False, max_intensity=600,\n",
    "                                 point_radius=100)\n",
    "\n",
    "# Add layer\n",
    "fig.add_layer(heat_layer)\n",
    "\n",
    "# Display figure\n",
    "fig"
   ]
  },
  {
   "cell_type": "markdown",
   "id": "aabb4a59",
   "metadata": {},
   "source": [
    "Marker Map of Pass: use Latitude, Longitude"
   ]
  },
  {
   "cell_type": "code",
   "execution_count": 14,
   "id": "91634d57",
   "metadata": {},
   "outputs": [
    {
     "data": {
      "application/vnd.jupyter.widget-view+json": {
       "model_id": "85f9724765be4c6cb9b5656a3c6ce73b",
       "version_major": 2,
       "version_minor": 0
      },
      "text/plain": [
       "Figure(layout=FigureLayout(border='1px solid black', height='300px', margin='0 auto 0 auto', padding='1px', wi…"
      ]
     },
     "metadata": {},
     "output_type": "display_data"
    }
   ],
   "source": [
    "#configure a map with all the points\n",
    "locations_p = pass_df[[\"Latitude\", \"Longitude\"]]\n",
    "\n",
    "figure_layout = {\n",
    "    'width': '400px',\n",
    "    'height': '300px',\n",
    "    'border': '1px solid black',\n",
    "    'padding': '1px',\n",
    "    'margin': '0 auto 0 auto'\n",
    "}\n",
    "fig = gmaps.figure(layout=figure_layout)\n",
    "\n",
    "#Add markers\n",
    "markers = gmaps.marker_layer(locations_p)\n",
    "# Add the layer to the map\n",
    "fig.add_layer(markers)\n",
    "fig"
   ]
  },
  {
   "cell_type": "markdown",
   "id": "0de76b93",
   "metadata": {},
   "source": [
    "Price vs Year ScatterPlot"
   ]
  },
  {
   "cell_type": "code",
   "execution_count": 15,
   "id": "d213d63f",
   "metadata": {},
   "outputs": [
    {
     "data": {
      "text/plain": [
       "array([2021, 2020, 2022])"
      ]
     },
     "execution_count": 15,
     "metadata": {},
     "output_type": "execute_result"
    }
   ],
   "source": [
    "pass_df['rating'].replace('', np.nan, inplace=True)\n",
    "pass_df.dropna(subset=['rating'], inplace=True)\n",
    "p = pass_df[\"Year\"].unique()\n",
    "p"
   ]
  },
  {
   "cell_type": "code",
   "execution_count": 16,
   "id": "fcea74d9",
   "metadata": {},
   "outputs": [],
   "source": [
    "\n",
    "x_values = pass_df[\"Year\"]\n",
    "y_values = pass_df[\"rating\"]\n"
   ]
  },
  {
   "cell_type": "code",
   "execution_count": 17,
   "id": "d6571878",
   "metadata": {},
   "outputs": [
    {
     "data": {
      "image/png": "[encoded data removed]",
      "text/plain": [
       "<Figure size 432x288 with 1 Axes>"
      ]
     },
     "metadata": {
      "needs_background": "light"
     },
     "output_type": "display_data"
    }
   ],
   "source": [
    "# Calculate the correlation coefficient and linear regression model \n",
    "(slope, intercept, rvalue, pvalue, stderr) = linregress(x_values, y_values)\n",
    "regress_values = x_values * slope + intercept\n",
    "line_eq = \"y = \" + str(round(slope,2)) + \"x + \" + str(round(intercept,2))\n",
    "\n",
    "#create the scatter plot\n",
    "plt.scatter(x_values,y_values)\n",
    "plt.plot(x_values,regress_values,\"r-\")\n",
    "plt.annotate(line_eq,(5.8,0.8),fontsize=15,color=\"red\")\n",
    "plt.xlabel(\"Year\")\n",
    "plt.ylabel(\"Rating\")\n",
    "plt.show()"
   ]
  },
  {
   "cell_type": "markdown",
   "id": "aec2db0e",
   "metadata": {},
   "source": [
    "# Pass vs Fail in Bar Chart"
   ]
  },
  {
   "cell_type": "code",
   "execution_count": 18,
   "id": "8533decf",
   "metadata": {},
   "outputs": [
    {
     "name": "stdout",
     "output_type": "stream",
     "text": [
      "3453\n",
      "1434\n"
     ]
    }
   ],
   "source": [
    "# Generate a pie plot showing the distribution of female versus male mice using pyplot\n",
    "Passed = pass_df['name'].count()\n",
    "Failed = failed_df['name'].count()\n",
    "print(Passed)\n",
    "print(Failed)"
   ]
  },
  {
   "cell_type": "code",
   "execution_count": 19,
   "id": "30f6329c",
   "metadata": {},
   "outputs": [
    {
     "data": {
      "text/html": [
       "<div>\n",
       "<style scoped>\n",
       "    .dataframe tbody tr th:only-of-type {\n",
       "        vertical-align: middle;\n",
       "    }\n",
       "\n",
       "    .dataframe tbody tr th {\n",
       "        vertical-align: top;\n",
       "    }\n",
       "\n",
       "    .dataframe thead th {\n",
       "        text-align: right;\n",
       "    }\n",
       "</style>\n",
       "<table border=\"1\" class=\"dataframe\">\n",
       "  <thead>\n",
       "    <tr style=\"text-align: right;\">\n",
       "      <th></th>\n",
       "      <th>Result</th>\n",
       "      <th>Count</th>\n",
       "    </tr>\n",
       "  </thead>\n",
       "  <tbody>\n",
       "    <tr>\n",
       "      <th>0</th>\n",
       "      <td>Pass</td>\n",
       "      <td>441</td>\n",
       "    </tr>\n",
       "    <tr>\n",
       "      <th>1</th>\n",
       "      <td>Fail</td>\n",
       "      <td>184</td>\n",
       "    </tr>\n",
       "  </tbody>\n",
       "</table>\n",
       "</div>"
      ],
      "text/plain": [
       "  Result  Count\n",
       "0   Pass    441\n",
       "1   Fail    184"
      ]
     },
     "execution_count": 19,
     "metadata": {},
     "output_type": "execute_result"
    }
   ],
   "source": [
    "result = [\"Pass\", \"Fail\"] \n",
    "count = [441,184]\n",
    "res_df = pd.DataFrame({\"Result\": result,\"Count\": count})\n",
    "res_df\n"
   ]
  },
  {
   "cell_type": "code",
   "execution_count": 70,
   "id": "35062dd5",
   "metadata": {},
   "outputs": [
    {
     "data": {
      "image/png": "[encoded data removed]",
      "text/plain": [
       "<Figure size 504x360 with 1 Axes>"
      ]
     },
     "metadata": {},
     "output_type": "display_data"
    }
   ],
   "source": [
    "\n",
    "# Generate a pie plot showing the distribution of pass vs fail\n",
    "\n",
    "colors = [\"lightblue\",\"orange\"]\n",
    "\n",
    "plot = res_df.plot.pie(y=\"Count\", labels=(\"Pass\",\"Fail\"), figsize=(7,5), colors = colors, autopct=\"%1.1f%%\",\n",
    "                             startangle=140,)\n",
    "# Create axes which are equal so we have a perfect circle\n",
    "plt.axis(\"equal\")\n",
    "# Save an image of our chart and print the final product to the screen\n",
    "plt.savefig('images/pie_pass_fail.png')\n",
    "plt.show()"
   ]
  },
  {
   "cell_type": "code",
   "execution_count": 21,
   "id": "f6c6b740",
   "metadata": {},
   "outputs": [
    {
     "data": {
      "text/html": [
       "<div>\n",
       "<style scoped>\n",
       "    .dataframe tbody tr th:only-of-type {\n",
       "        vertical-align: middle;\n",
       "    }\n",
       "\n",
       "    .dataframe tbody tr th {\n",
       "        vertical-align: top;\n",
       "    }\n",
       "\n",
       "    .dataframe thead th {\n",
       "        text-align: right;\n",
       "    }\n",
       "</style>\n",
       "<table border=\"1\" class=\"dataframe\">\n",
       "  <thead>\n",
       "    <tr style=\"text-align: right;\">\n",
       "      <th></th>\n",
       "      <th>name</th>\n",
       "      <th>review_count</th>\n",
       "      <th>category</th>\n",
       "      <th>category_title</th>\n",
       "      <th>Risk</th>\n",
       "      <th>price_integer</th>\n",
       "      <th>rating</th>\n",
       "      <th>Year</th>\n",
       "      <th>zip code_y</th>\n",
       "      <th>address1</th>\n",
       "      <th>price</th>\n",
       "      <th>Inspection Type</th>\n",
       "      <th>Results</th>\n",
       "      <th>Violations</th>\n",
       "      <th>Latitude</th>\n",
       "      <th>Longitude</th>\n",
       "    </tr>\n",
       "  </thead>\n",
       "  <tbody>\n",
       "    <tr>\n",
       "      <th>0</th>\n",
       "      <td>ArePA George</td>\n",
       "      <td>144</td>\n",
       "      <td>colombian</td>\n",
       "      <td>Colombian</td>\n",
       "      <td>Risk 1 (High)</td>\n",
       "      <td>2.0</td>\n",
       "      <td>4.5</td>\n",
       "      <td>2021</td>\n",
       "      <td>NaN</td>\n",
       "      <td>1552 N Kedzie Ave</td>\n",
       "      <td>$$</td>\n",
       "      <td>Canvass</td>\n",
       "      <td>Pass</td>\n",
       "      <td>NaN</td>\n",
       "      <td>41.909898</td>\n",
       "      <td>-87.707145</td>\n",
       "    </tr>\n",
       "    <tr>\n",
       "      <th>1</th>\n",
       "      <td>ArePA George</td>\n",
       "      <td>144</td>\n",
       "      <td>colombian</td>\n",
       "      <td>Colombian</td>\n",
       "      <td>Risk 1 (High)</td>\n",
       "      <td>2.0</td>\n",
       "      <td>4.5</td>\n",
       "      <td>2020</td>\n",
       "      <td>NaN</td>\n",
       "      <td>1552 N Kedzie Ave</td>\n",
       "      <td>$$</td>\n",
       "      <td>Canvass</td>\n",
       "      <td>Pass</td>\n",
       "      <td>47. FOOD &amp; NON-FOOD CONTACT SURFACES CLEANABLE...</td>\n",
       "      <td>41.909898</td>\n",
       "      <td>-87.707145</td>\n",
       "    </tr>\n",
       "    <tr>\n",
       "      <th>2</th>\n",
       "      <td>Grand Lux Cafe</td>\n",
       "      <td>85</td>\n",
       "      <td>tradamerican</td>\n",
       "      <td>American (Traditional)</td>\n",
       "      <td>Risk 1 (High)</td>\n",
       "      <td>2.0</td>\n",
       "      <td>3.5</td>\n",
       "      <td>2021</td>\n",
       "      <td>NaN</td>\n",
       "      <td>600 N Michigan Ave</td>\n",
       "      <td>$$</td>\n",
       "      <td>Short Form Complaint</td>\n",
       "      <td>Pass</td>\n",
       "      <td>NaN</td>\n",
       "      <td>41.893216</td>\n",
       "      <td>-87.624812</td>\n",
       "    </tr>\n",
       "    <tr>\n",
       "      <th>4</th>\n",
       "      <td>Grand Lux Cafe</td>\n",
       "      <td>85</td>\n",
       "      <td>tradamerican</td>\n",
       "      <td>American (Traditional)</td>\n",
       "      <td>Risk 1 (High)</td>\n",
       "      <td>2.0</td>\n",
       "      <td>3.5</td>\n",
       "      <td>2021</td>\n",
       "      <td>NaN</td>\n",
       "      <td>600 N Michigan Ave</td>\n",
       "      <td>$$</td>\n",
       "      <td>Complaint Re-Inspection</td>\n",
       "      <td>Pass</td>\n",
       "      <td>NaN</td>\n",
       "      <td>41.893216</td>\n",
       "      <td>-87.624812</td>\n",
       "    </tr>\n",
       "    <tr>\n",
       "      <th>5</th>\n",
       "      <td>Grand Lux Cafe</td>\n",
       "      <td>85</td>\n",
       "      <td>tradamerican</td>\n",
       "      <td>American (Traditional)</td>\n",
       "      <td>Risk 1 (High)</td>\n",
       "      <td>2.0</td>\n",
       "      <td>3.5</td>\n",
       "      <td>2021</td>\n",
       "      <td>NaN</td>\n",
       "      <td>600 N Michigan Ave</td>\n",
       "      <td>$$</td>\n",
       "      <td>Canvass</td>\n",
       "      <td>Pass</td>\n",
       "      <td>49. NON-FOOD/FOOD CONTACT SURFACES CLEAN - Com...</td>\n",
       "      <td>41.893216</td>\n",
       "      <td>-87.624812</td>\n",
       "    </tr>\n",
       "    <tr>\n",
       "      <th>...</th>\n",
       "      <td>...</td>\n",
       "      <td>...</td>\n",
       "      <td>...</td>\n",
       "      <td>...</td>\n",
       "      <td>...</td>\n",
       "      <td>...</td>\n",
       "      <td>...</td>\n",
       "      <td>...</td>\n",
       "      <td>...</td>\n",
       "      <td>...</td>\n",
       "      <td>...</td>\n",
       "      <td>...</td>\n",
       "      <td>...</td>\n",
       "      <td>...</td>\n",
       "      <td>...</td>\n",
       "      <td>...</td>\n",
       "    </tr>\n",
       "    <tr>\n",
       "      <th>4881</th>\n",
       "      <td>Macanudo Mate</td>\n",
       "      <td>10</td>\n",
       "      <td>latin</td>\n",
       "      <td>Latin American</td>\n",
       "      <td>Risk 1 (High)</td>\n",
       "      <td>NaN</td>\n",
       "      <td>4.5</td>\n",
       "      <td>2020</td>\n",
       "      <td>NaN</td>\n",
       "      <td>108 N State St</td>\n",
       "      <td>NaN</td>\n",
       "      <td>Canvass</td>\n",
       "      <td>Pass</td>\n",
       "      <td>57. ALL FOOD EMPLOYEES HAVE FOOD HANDLER TRAIN...</td>\n",
       "      <td>41.883423</td>\n",
       "      <td>-87.628022</td>\n",
       "    </tr>\n",
       "    <tr>\n",
       "      <th>4882</th>\n",
       "      <td>Subway</td>\n",
       "      <td>25</td>\n",
       "      <td>sandwiches</td>\n",
       "      <td>Sandwiches</td>\n",
       "      <td>Risk 1 (High)</td>\n",
       "      <td>1.0</td>\n",
       "      <td>4.5</td>\n",
       "      <td>2020</td>\n",
       "      <td>NaN</td>\n",
       "      <td>1449 E 57th St</td>\n",
       "      <td>$</td>\n",
       "      <td>Canvass</td>\n",
       "      <td>Pass</td>\n",
       "      <td>10. ADEQUATE HANDWASHING SINKS PROPERLY SUPPLI...</td>\n",
       "      <td>41.791405</td>\n",
       "      <td>-87.589778</td>\n",
       "    </tr>\n",
       "    <tr>\n",
       "      <th>4883</th>\n",
       "      <td>Burger King</td>\n",
       "      <td>62</td>\n",
       "      <td>hotdogs</td>\n",
       "      <td>Fast Food</td>\n",
       "      <td>Risk 2 (Medium)</td>\n",
       "      <td>1.0</td>\n",
       "      <td>2.0</td>\n",
       "      <td>2020</td>\n",
       "      <td>NaN</td>\n",
       "      <td>1323 W Irving Park Rd</td>\n",
       "      <td>$</td>\n",
       "      <td>Canvass</td>\n",
       "      <td>Pass</td>\n",
       "      <td>54. GARBAGE &amp; REFUSE PROPERLY DISPOSED; FACILI...</td>\n",
       "      <td>41.954258</td>\n",
       "      <td>-87.663216</td>\n",
       "    </tr>\n",
       "    <tr>\n",
       "      <th>4884</th>\n",
       "      <td>Subway</td>\n",
       "      <td>6</td>\n",
       "      <td>sandwiches</td>\n",
       "      <td>Sandwiches</td>\n",
       "      <td>Risk 1 (High)</td>\n",
       "      <td>1.0</td>\n",
       "      <td>2.5</td>\n",
       "      <td>2020</td>\n",
       "      <td>NaN</td>\n",
       "      <td>7138 N Sheridan</td>\n",
       "      <td>$</td>\n",
       "      <td>Canvass</td>\n",
       "      <td>Pass</td>\n",
       "      <td>39. CONTAMINATION PREVENTED DURING FOOD PREPAR...</td>\n",
       "      <td>42.012710</td>\n",
       "      <td>-87.664034</td>\n",
       "    </tr>\n",
       "    <tr>\n",
       "      <th>4886</th>\n",
       "      <td>Hannah's Bretzel</td>\n",
       "      <td>226</td>\n",
       "      <td>sandwiches</td>\n",
       "      <td>Sandwiches</td>\n",
       "      <td>Risk 1 (High)</td>\n",
       "      <td>2.0</td>\n",
       "      <td>4.0</td>\n",
       "      <td>2020</td>\n",
       "      <td>NaN</td>\n",
       "      <td>233 N Michigan Ave</td>\n",
       "      <td>$$</td>\n",
       "      <td>Canvass</td>\n",
       "      <td>Pass</td>\n",
       "      <td>47. FOOD &amp; NON-FOOD CONTACT SURFACES CLEANABLE...</td>\n",
       "      <td>41.886567</td>\n",
       "      <td>-87.624385</td>\n",
       "    </tr>\n",
       "  </tbody>\n",
       "</table>\n",
       "<p>3453 rows × 16 columns</p>\n",
       "</div>"
      ],
      "text/plain": [
       "                  name  review_count      category          category_title  \\\n",
       "0         ArePA George           144     colombian               Colombian   \n",
       "1         ArePA George           144     colombian               Colombian   \n",
       "2       Grand Lux Cafe            85  tradamerican  American (Traditional)   \n",
       "4       Grand Lux Cafe            85  tradamerican  American (Traditional)   \n",
       "5       Grand Lux Cafe            85  tradamerican  American (Traditional)   \n",
       "...                ...           ...           ...                     ...   \n",
       "4881     Macanudo Mate            10         latin          Latin American   \n",
       "4882            Subway            25    sandwiches              Sandwiches   \n",
       "4883       Burger King            62       hotdogs               Fast Food   \n",
       "4884            Subway             6    sandwiches              Sandwiches   \n",
       "4886  Hannah's Bretzel           226    sandwiches              Sandwiches   \n",
       "\n",
       "                 Risk  price_integer  rating  Year  zip code_y  \\\n",
       "0       Risk 1 (High)            2.0     4.5  2021         NaN   \n",
       "1       Risk 1 (High)            2.0     4.5  2020         NaN   \n",
       "2       Risk 1 (High)            2.0     3.5  2021         NaN   \n",
       "4       Risk 1 (High)            2.0     3.5  2021         NaN   \n",
       "5       Risk 1 (High)            2.0     3.5  2021         NaN   \n",
       "...               ...            ...     ...   ...         ...   \n",
       "4881    Risk 1 (High)            NaN     4.5  2020         NaN   \n",
       "4882    Risk 1 (High)            1.0     4.5  2020         NaN   \n",
       "4883  Risk 2 (Medium)            1.0     2.0  2020         NaN   \n",
       "4884    Risk 1 (High)            1.0     2.5  2020         NaN   \n",
       "4886    Risk 1 (High)            2.0     4.0  2020         NaN   \n",
       "\n",
       "                   address1 price          Inspection Type Results  \\\n",
       "0         1552 N Kedzie Ave    $$                  Canvass    Pass   \n",
       "1         1552 N Kedzie Ave    $$                  Canvass    Pass   \n",
       "2        600 N Michigan Ave    $$     Short Form Complaint    Pass   \n",
       "4        600 N Michigan Ave    $$  Complaint Re-Inspection    Pass   \n",
       "5        600 N Michigan Ave    $$                  Canvass    Pass   \n",
       "...                     ...   ...                      ...     ...   \n",
       "4881         108 N State St   NaN                  Canvass    Pass   \n",
       "4882         1449 E 57th St     $                  Canvass    Pass   \n",
       "4883  1323 W Irving Park Rd     $                  Canvass    Pass   \n",
       "4884        7138 N Sheridan     $                  Canvass    Pass   \n",
       "4886     233 N Michigan Ave    $$                  Canvass    Pass   \n",
       "\n",
       "                                             Violations   Latitude  Longitude  \n",
       "0                                                   NaN  41.909898 -87.707145  \n",
       "1     47. FOOD & NON-FOOD CONTACT SURFACES CLEANABLE...  41.909898 -87.707145  \n",
       "2                                                   NaN  41.893216 -87.624812  \n",
       "4                                                   NaN  41.893216 -87.624812  \n",
       "5     49. NON-FOOD/FOOD CONTACT SURFACES CLEAN - Com...  41.893216 -87.624812  \n",
       "...                                                 ...        ...        ...  \n",
       "4881  57. ALL FOOD EMPLOYEES HAVE FOOD HANDLER TRAIN...  41.883423 -87.628022  \n",
       "4882  10. ADEQUATE HANDWASHING SINKS PROPERLY SUPPLI...  41.791405 -87.589778  \n",
       "4883  54. GARBAGE & REFUSE PROPERLY DISPOSED; FACILI...  41.954258 -87.663216  \n",
       "4884  39. CONTAMINATION PREVENTED DURING FOOD PREPAR...  42.012710 -87.664034  \n",
       "4886  47. FOOD & NON-FOOD CONTACT SURFACES CLEANABLE...  41.886567 -87.624385  \n",
       "\n",
       "[3453 rows x 16 columns]"
      ]
     },
     "execution_count": 21,
     "metadata": {},
     "output_type": "execute_result"
    }
   ],
   "source": [
    "pass_df"
   ]
  },
  {
   "cell_type": "markdown",
   "id": "717948cf",
   "metadata": {},
   "source": [
    "# pie chart for passing vs rating"
   ]
  },
  {
   "cell_type": "code",
   "execution_count": 64,
   "id": "9a9eabae",
   "metadata": {},
   "outputs": [
    {
     "name": "stdout",
     "output_type": "stream",
     "text": [
      "bins    Poor  Okay  Great\n",
      "rating                   \n",
      "1.0       61     0      0\n",
      "1.5      145     0      0\n",
      "2.0        0   248      0\n",
      "2.5        0   436      0\n",
      "3.0        0   447      0\n",
      "3.5        0   680      0\n",
      "4.0        0     0    846\n",
      "4.5        0     0    474\n",
      "5.0        0     0    116\n"
     ]
    }
   ],
   "source": [
    "pass_df['bins'] = pd.cut(pass_df['rating'],bins=[0, 1.5, 3.5, 5], labels=['Poor', 'Okay', 'Great'])\n",
    "P_df = pass_df.groupby(['rating', 'bins']).size().unstack(fill_value=0)\n",
    "print(P_df)\n"
   ]
  },
  {
   "cell_type": "code",
   "execution_count": 65,
   "id": "20ee9ad3",
   "metadata": {},
   "outputs": [
    {
     "data": {
      "image/png": "[encoded data removed]",
      "text/plain": [
       "<Figure size 1440x1440 with 3 Axes>"
      ]
     },
     "metadata": {},
     "output_type": "display_data"
    }
   ],
   "source": [
    "P_df.plot.pie(subplots=True,figsize=(20, 20))\n",
    "plt.savefig('images/pie_passing_rating.png')"
   ]
  },
  {
   "cell_type": "code",
   "execution_count": 66,
   "id": "99bd1245",
   "metadata": {},
   "outputs": [
    {
     "data": {
      "image/png": "[encoded data removed]",
      "text/plain": [
       "<Figure size 360x360 with 1 Axes>"
      ]
     },
     "metadata": {},
     "output_type": "display_data"
    }
   ],
   "source": [
    "P = pass_df.groupby('bins').size()\n",
    "P.plot.pie(figsize=(5,5))\n",
    "plt.savefig('images/pie_all_passing_rating.png')"
   ]
  },
  {
   "cell_type": "markdown",
   "id": "ff1b333c",
   "metadata": {},
   "source": [
    "# Pie chart for failing vs rating"
   ]
  },
  {
   "cell_type": "code",
   "execution_count": 67,
   "id": "8d532308",
   "metadata": {},
   "outputs": [
    {
     "name": "stdout",
     "output_type": "stream",
     "text": [
      "Binned  Poor  Okay  Great\n",
      "rating                   \n",
      "1.0       24     0      0\n",
      "1.5       40     0      0\n",
      "2.0        0    78      0\n",
      "2.5        0   137      0\n",
      "3.0        0   180      0\n",
      "3.5        0   297      0\n",
      "4.0        0     0    397\n",
      "4.5        0     0    216\n",
      "5.0        0     0     65\n"
     ]
    }
   ],
   "source": [
    "fail['Binned'] = pd.cut(fail['rating'], bins=[0, 1.5, 3.5, 5], labels=['Poor', 'Okay', 'Great'])\n",
    "F_df = fail.groupby(['rating', 'Binned']).size().unstack(fill_value=0)\n",
    "print (F_df)\n"
   ]
  },
  {
   "cell_type": "code",
   "execution_count": 68,
   "id": "558d80d6",
   "metadata": {},
   "outputs": [
    {
     "data": {
      "image/png": "[encoded data removed]",
      "text/plain": [
       "<Figure size 1440x1440 with 3 Axes>"
      ]
     },
     "metadata": {},
     "output_type": "display_data"
    }
   ],
   "source": [
    "F_df.plot.pie(subplots=True,figsize=(20, 20))\n",
    "plt.savefig('images/pie_failing_rating.png')"
   ]
  },
  {
   "cell_type": "code",
   "execution_count": 69,
   "id": "4c6dc29c",
   "metadata": {},
   "outputs": [
    {
     "data": {
      "image/png": "[encoded data removed]",
      "text/plain": [
       "<Figure size 360x360 with 1 Axes>"
      ]
     },
     "metadata": {},
     "output_type": "display_data"
    }
   ],
   "source": [
    "F = fail.groupby('Binned').size()\n",
    "F.plot.pie(figsize=(5,5))\n",
    "plt.savefig('images/pie_all_failing_rating.png')"
   ]
  },
  {
   "cell_type": "code",
   "execution_count": null,
   "id": "8b588f39",
   "metadata": {},
   "outputs": [],
   "source": []
  },
  {
   "cell_type": "code",
   "execution_count": null,
   "id": "e513864f",
   "metadata": {},
   "outputs": [],
   "source": []
  }
 ],
 "metadata": {
  "kernelspec": {
   "display_name": "Python [conda env:PythonData38]",
   "language": "python",
   "name": "conda-env-PythonData38-py"
  },
  "language_info": {
   "codemirror_mode": {
    "name": "ipython",
    "version": 3
   },
   "file_extension": ".py",
   "mimetype": "text/x-python",
   "name": "python",
   "nbconvert_exporter": "python",
   "pygments_lexer": "ipython3",
   "version": "3.8.12"
  }
 },
 "nbformat": 4,
 "nbformat_minor": 5
}
