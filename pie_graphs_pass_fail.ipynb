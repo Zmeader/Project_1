{
 "cells": [
  {
   "cell_type": "code",
   "execution_count": 1,
   "id": "e9e7e4d8",
   "metadata": {},
   "outputs": [],
   "source": [
    "# Import dependencies\n",
    "from pprint import pprint\n",
    "import pandas as pd \n",
    "import requests\n",
    "import numpy as np\n",
    "\n",
    "import matplotlib.pyplot as plt\n",
    "import pandas as pd\n",
    "import scipy.stats as st\n",
    "import numpy as np\n",
    "from scipy.stats import linregress\n",
    "from sklearn import datasets\n",
    "\n",
    "import gmaps\n",
    "import os\n",
    "import json\n",
    "import time\n",
    "from config import g_key"
   ]
  },
  {
   "cell_type": "code",
   "execution_count": 33,
   "id": "4aeeaeda",
   "metadata": {},
   "outputs": [
    {
     "data": {
      "text/html": [
       "<div>\n",
       "<style scoped>\n",
       "    .dataframe tbody tr th:only-of-type {\n",
       "        vertical-align: middle;\n",
       "    }\n",
       "\n",
       "    .dataframe tbody tr th {\n",
       "        vertical-align: top;\n",
       "    }\n",
       "\n",
       "    .dataframe thead th {\n",
       "        text-align: right;\n",
       "    }\n",
       "</style>\n",
       "<table border=\"1\" class=\"dataframe\">\n",
       "  <thead>\n",
       "    <tr style=\"text-align: right;\">\n",
       "      <th></th>\n",
       "      <th>Unnamed: 0.1</th>\n",
       "      <th>Address</th>\n",
       "      <th>Address_old</th>\n",
       "      <th>AKA Name</th>\n",
       "      <th>Facility Type</th>\n",
       "      <th>Risk</th>\n",
       "      <th>Zip</th>\n",
       "      <th>Year</th>\n",
       "      <th>Inspection Type</th>\n",
       "      <th>Results</th>\n",
       "      <th>...</th>\n",
       "      <th>display_address</th>\n",
       "      <th>address1</th>\n",
       "      <th>address2</th>\n",
       "      <th>address3</th>\n",
       "      <th>city</th>\n",
       "      <th>latitude</th>\n",
       "      <th>longitude</th>\n",
       "      <th>zip code</th>\n",
       "      <th>restaurant_id</th>\n",
       "      <th>price_integer</th>\n",
       "    </tr>\n",
       "  </thead>\n",
       "  <tbody>\n",
       "    <tr>\n",
       "      <th>0</th>\n",
       "      <td>0</td>\n",
       "      <td>4412 N Pulaski Rd</td>\n",
       "      <td>4412 N Pulaski Rd</td>\n",
       "      <td>WENDY'S</td>\n",
       "      <td>Restaurant</td>\n",
       "      <td>Risk 1 (High)</td>\n",
       "      <td>60630.0</td>\n",
       "      <td>2022</td>\n",
       "      <td>Complaint Re-Inspection</td>\n",
       "      <td>Pass</td>\n",
       "      <td>...</td>\n",
       "      <td>['4412 N Pulaski Rd', 'Chicago, IL 60630']</td>\n",
       "      <td>4412 N Pulaski Rd</td>\n",
       "      <td>NaN</td>\n",
       "      <td>NaN</td>\n",
       "      <td>Chicago</td>\n",
       "      <td>41.961428</td>\n",
       "      <td>-87.728149</td>\n",
       "      <td>60630</td>\n",
       "      <td>NztYcb9i_D9E563x1XVUsQ</td>\n",
       "      <td>1.0</td>\n",
       "    </tr>\n",
       "    <tr>\n",
       "      <th>1</th>\n",
       "      <td>1</td>\n",
       "      <td>4412 N Pulaski Rd</td>\n",
       "      <td>4412 N Pulaski Rd</td>\n",
       "      <td>WENDY'S</td>\n",
       "      <td>Restaurant</td>\n",
       "      <td>Risk 1 (High)</td>\n",
       "      <td>60630.0</td>\n",
       "      <td>2022</td>\n",
       "      <td>Short Form Complaint</td>\n",
       "      <td>Fail</td>\n",
       "      <td>...</td>\n",
       "      <td>['4412 N Pulaski Rd', 'Chicago, IL 60630']</td>\n",
       "      <td>4412 N Pulaski Rd</td>\n",
       "      <td>NaN</td>\n",
       "      <td>NaN</td>\n",
       "      <td>Chicago</td>\n",
       "      <td>41.961428</td>\n",
       "      <td>-87.728149</td>\n",
       "      <td>60630</td>\n",
       "      <td>NztYcb9i_D9E563x1XVUsQ</td>\n",
       "      <td>1.0</td>\n",
       "    </tr>\n",
       "    <tr>\n",
       "      <th>2</th>\n",
       "      <td>2</td>\n",
       "      <td>1116 W Madison St</td>\n",
       "      <td>1116 W Madison St</td>\n",
       "      <td>VietFive Coffee</td>\n",
       "      <td>Restaurant</td>\n",
       "      <td>Risk 2 (Medium)</td>\n",
       "      <td>60607.0</td>\n",
       "      <td>2022</td>\n",
       "      <td>License Re-Inspection</td>\n",
       "      <td>Pass</td>\n",
       "      <td>...</td>\n",
       "      <td>['1116 W Madison St', 'Chicago, IL 60607']</td>\n",
       "      <td>1116 W Madison St</td>\n",
       "      <td>NaN</td>\n",
       "      <td>NaN</td>\n",
       "      <td>Chicago</td>\n",
       "      <td>41.881840</td>\n",
       "      <td>-87.655100</td>\n",
       "      <td>60607</td>\n",
       "      <td>zrgjSslmZzgmF6H4ZU3HxA</td>\n",
       "      <td>NaN</td>\n",
       "    </tr>\n",
       "    <tr>\n",
       "      <th>3</th>\n",
       "      <td>3</td>\n",
       "      <td>1116 W Madison St</td>\n",
       "      <td>1116 W Madison St</td>\n",
       "      <td>VietFive Coffee</td>\n",
       "      <td>Restaurant</td>\n",
       "      <td>Risk 2 (Medium)</td>\n",
       "      <td>60607.0</td>\n",
       "      <td>2022</td>\n",
       "      <td>License</td>\n",
       "      <td>Fail</td>\n",
       "      <td>...</td>\n",
       "      <td>['1116 W Madison St', 'Chicago, IL 60607']</td>\n",
       "      <td>1116 W Madison St</td>\n",
       "      <td>NaN</td>\n",
       "      <td>NaN</td>\n",
       "      <td>Chicago</td>\n",
       "      <td>41.881840</td>\n",
       "      <td>-87.655100</td>\n",
       "      <td>60607</td>\n",
       "      <td>zrgjSslmZzgmF6H4ZU3HxA</td>\n",
       "      <td>NaN</td>\n",
       "    </tr>\n",
       "    <tr>\n",
       "      <th>4</th>\n",
       "      <td>4</td>\n",
       "      <td>2132 W Chicago</td>\n",
       "      <td>2132 W Chicago</td>\n",
       "      <td>TAKIE OUTIT</td>\n",
       "      <td>Restaurant</td>\n",
       "      <td>Risk 1 (High)</td>\n",
       "      <td>60622.0</td>\n",
       "      <td>2022</td>\n",
       "      <td>License Re-Inspection</td>\n",
       "      <td>Pass</td>\n",
       "      <td>...</td>\n",
       "      <td>['2132 W Chicago Ave', 'Chicago, IL 60622']</td>\n",
       "      <td>2132 W Chicago Ave</td>\n",
       "      <td>NaN</td>\n",
       "      <td>NaN</td>\n",
       "      <td>Chicago</td>\n",
       "      <td>41.896110</td>\n",
       "      <td>-87.680860</td>\n",
       "      <td>60622</td>\n",
       "      <td>rd4NrLcEOKBVaGRIkC35NQ</td>\n",
       "      <td>1.0</td>\n",
       "    </tr>\n",
       "  </tbody>\n",
       "</table>\n",
       "<p>5 rows × 33 columns</p>\n",
       "</div>"
      ],
      "text/plain": [
       "   Unnamed: 0.1            Address         Address_old         AKA Name  \\\n",
       "0             0  4412 N Pulaski Rd  4412 N Pulaski Rd           WENDY'S   \n",
       "1             1  4412 N Pulaski Rd  4412 N Pulaski Rd           WENDY'S   \n",
       "2             2  1116 W Madison St  1116 W Madison St   VietFive Coffee   \n",
       "3             3  1116 W Madison St  1116 W Madison St   VietFive Coffee   \n",
       "4             4     2132 W Chicago    2132 W Chicago        TAKIE OUTIT   \n",
       "\n",
       "  Facility Type             Risk      Zip  Year          Inspection Type  \\\n",
       "0    Restaurant    Risk 1 (High)  60630.0  2022  Complaint Re-Inspection   \n",
       "1    Restaurant    Risk 1 (High)  60630.0  2022     Short Form Complaint   \n",
       "2    Restaurant  Risk 2 (Medium)  60607.0  2022    License Re-Inspection   \n",
       "3    Restaurant  Risk 2 (Medium)  60607.0  2022                  License   \n",
       "4    Restaurant    Risk 1 (High)  60622.0  2022    License Re-Inspection   \n",
       "\n",
       "  Results  ...                              display_address  \\\n",
       "0    Pass  ...   ['4412 N Pulaski Rd', 'Chicago, IL 60630']   \n",
       "1    Fail  ...   ['4412 N Pulaski Rd', 'Chicago, IL 60630']   \n",
       "2    Pass  ...   ['1116 W Madison St', 'Chicago, IL 60607']   \n",
       "3    Fail  ...   ['1116 W Madison St', 'Chicago, IL 60607']   \n",
       "4    Pass  ...  ['2132 W Chicago Ave', 'Chicago, IL 60622']   \n",
       "\n",
       "             address1  address2  address3     city   latitude  longitude  \\\n",
       "0   4412 N Pulaski Rd       NaN       NaN  Chicago  41.961428 -87.728149   \n",
       "1   4412 N Pulaski Rd       NaN       NaN  Chicago  41.961428 -87.728149   \n",
       "2   1116 W Madison St       NaN       NaN  Chicago  41.881840 -87.655100   \n",
       "3   1116 W Madison St       NaN       NaN  Chicago  41.881840 -87.655100   \n",
       "4  2132 W Chicago Ave       NaN       NaN  Chicago  41.896110 -87.680860   \n",
       "\n",
       "  zip code           restaurant_id price_integer  \n",
       "0    60630  NztYcb9i_D9E563x1XVUsQ           1.0  \n",
       "1    60630  NztYcb9i_D9E563x1XVUsQ           1.0  \n",
       "2    60607  zrgjSslmZzgmF6H4ZU3HxA           NaN  \n",
       "3    60607  zrgjSslmZzgmF6H4ZU3HxA           NaN  \n",
       "4    60622  rd4NrLcEOKBVaGRIkC35NQ           1.0  \n",
       "\n",
       "[5 rows x 33 columns]"
      ]
     },
     "execution_count": 33,
     "metadata": {},
     "output_type": "execute_result"
    }
   ],
   "source": [
    "merged_clean = pd.read_csv('data/yelp_inspection_merge.csv')\n",
    "merged_clean.head()\n"
   ]
  },
  {
   "cell_type": "code",
   "execution_count": 34,
   "id": "fc2368fd",
   "metadata": {},
   "outputs": [
    {
     "data": {
      "text/plain": [
       "array([2022])"
      ]
     },
     "execution_count": 34,
     "metadata": {},
     "output_type": "execute_result"
    }
   ],
   "source": [
    "pf = merged_clean[\"Year\"].unique()\n",
    "pf"
   ]
  },
  {
   "cell_type": "markdown",
   "id": "270e38e1",
   "metadata": {},
   "source": [
    "# Failed"
   ]
  },
  {
   "cell_type": "code",
   "execution_count": 3,
   "id": "b247b278",
   "metadata": {},
   "outputs": [],
   "source": [
    "#DataFrame for Restaurant with Failed Status\n",
    "failed_df = merged_clean.loc[merged_clean[\"Results\"] == \"Fail\"]"
   ]
  },
  {
   "cell_type": "code",
   "execution_count": 7,
   "id": "04ffed2b",
   "metadata": {},
   "outputs": [],
   "source": [
    "fail = pd.DataFrame(failed_df, columns = ['name','review_count','category','category_title','Risk', 'price_integer',\n",
    "                                                'rating', 'Year', 'zip code_y','address1','price','Inspection Type','Results','Violations','Latitude','Longitude'])\n",
    "#fail.head(5)\n"
   ]
  },
  {
   "cell_type": "code",
   "execution_count": 8,
   "id": "2ea1067b",
   "metadata": {},
   "outputs": [],
   "source": [
    "#create link for gmaps\n",
    "gmaps.configure(api_key = g_key)"
   ]
  },
  {
   "cell_type": "code",
   "execution_count": 9,
   "id": "57196020",
   "metadata": {},
   "outputs": [],
   "source": [
    "# configure gmaps for lat/lng vs rating based on . Store latitude and longitude in locations\n",
    "locations_f = fail[[\"Latitude\", \"Longitude\"]]\n",
    "\n",
    "# Fill NaN values and convert to float\n",
    "rating = fail[\"rating\"].astype(float)"
   ]
  },
  {
   "cell_type": "code",
   "execution_count": 10,
   "id": "42a3b08d",
   "metadata": {},
   "outputs": [
    {
     "data": {
      "application/vnd.jupyter.widget-view+json": {
       "model_id": "780bab9f75fd4779b3da2ec111352ecc",
       "version_major": 2,
       "version_minor": 0
      },
      "text/plain": [
       "Figure(layout=FigureLayout(height='420px'))"
      ]
     },
     "metadata": {},
     "output_type": "display_data"
    }
   ],
   "source": [
    "# Plot Heatmap\n",
    "fig = gmaps.figure()\n",
    "\n",
    "# Create heat layer\n",
    "heat_layer = gmaps.heatmap_layer(locations_f, weights=rating, \n",
    "                                 dissipating=False, max_intensity=300,\n",
    "                                 point_radius=50)\n",
    "\n",
    "# Add layer\n",
    "fig.add_layer(heat_layer)\n",
    "\n",
    "# Display figure\n",
    "fig"
   ]
  },
  {
   "cell_type": "code",
   "execution_count": 11,
   "id": "e28dfecd",
   "metadata": {},
   "outputs": [
    {
     "data": {
      "application/vnd.jupyter.widget-view+json": {
       "model_id": "baa510be806c43feb0e6b36b6c653a01",
       "version_major": 2,
       "version_minor": 0
      },
      "text/plain": [
       "Figure(layout=FigureLayout(border='1px solid black', height='300px', margin='0 auto 0 auto', padding='1px', wi…"
      ]
     },
     "metadata": {},
     "output_type": "display_data"
    }
   ],
   "source": [
    "#configure a map with all the points\n",
    "figure = {\n",
    "    'width': '400px',\n",
    "    'height': '300px',\n",
    "    'border': '1px solid black',\n",
    "    'padding': '1px',\n",
    "    'margin': '0 auto 0 auto'\n",
    "}\n",
    "fig = gmaps.figure(layout=figure)\n",
    "\n",
    "#Add markers\n",
    "markers = gmaps.marker_layer(locations_f)\n",
    "# Add the layer to the map\n",
    "fig.add_layer(markers)\n",
    "fig"
   ]
  },
  {
   "cell_type": "code",
   "execution_count": 31,
   "id": "00174c06",
   "metadata": {},
   "outputs": [
    {
     "data": {
      "text/plain": [
       "array([2022])"
      ]
     },
     "execution_count": 31,
     "metadata": {},
     "output_type": "execute_result"
    }
   ],
   "source": [
    "f = failed_df[\"Year\"].unique()\n",
    "f"
   ]
  },
  {
   "cell_type": "markdown",
   "id": "04e74041",
   "metadata": {},
   "source": [
    "# Passing DataFrame"
   ]
  },
  {
   "cell_type": "code",
   "execution_count": 12,
   "id": "1fee14ba",
   "metadata": {},
   "outputs": [],
   "source": [
    "#DataFrame for Restaurant with Passed Status\n",
    "passed_df = merged_clean.loc[merged_clean[\"Results\"] == \"Pass\"]\n",
    "pass_df = pd.DataFrame(passed_df, columns = ['name','review_count','category','category_title','Risk', 'price_integer',\n",
    "                                                'rating', 'Year', 'zip code_y','address1','price','Inspection Type','Results','Violations','Latitude','Longitude'])\n",
    "#pass_df.head(5)"
   ]
  },
  {
   "cell_type": "markdown",
   "id": "65cae44c",
   "metadata": {},
   "source": [
    "Heat Map Rating with Lat/Lng: use Latitude, Longitude and Rating as weight"
   ]
  },
  {
   "cell_type": "code",
   "execution_count": 13,
   "id": "543c9b81",
   "metadata": {},
   "outputs": [],
   "source": [
    "#configure gmaps for lat/lng vs rating\n",
    "\n",
    "# Store latitude and longitude in locations\n",
    "locations = pass_df[[\"Latitude\", \"Longitude\"]]\n",
    "\n",
    "# Fill NaN values and convert to float\n",
    "rating = pass_df[\"rating\"].astype(float)"
   ]
  },
  {
   "cell_type": "code",
   "execution_count": 14,
   "id": "3acbd4d9",
   "metadata": {},
   "outputs": [
    {
     "data": {
      "application/vnd.jupyter.widget-view+json": {
       "model_id": "94aaef2400e0492aab01e5bcdd4f4c53",
       "version_major": 2,
       "version_minor": 0
      },
      "text/plain": [
       "Figure(layout=FigureLayout(height='420px'))"
      ]
     },
     "metadata": {},
     "output_type": "display_data"
    }
   ],
   "source": [
    "# Plot Heatmap\n",
    "fig = gmaps.figure()\n",
    "\n",
    "# Create heat layer\n",
    "heat_layer = gmaps.heatmap_layer(locations, weights=rating, \n",
    "                                 dissipating=False, max_intensity=600,\n",
    "                                 point_radius=100)\n",
    "\n",
    "# Add layer\n",
    "fig.add_layer(heat_layer)\n",
    "\n",
    "# Display figure\n",
    "fig"
   ]
  },
  {
   "cell_type": "markdown",
   "id": "aabb4a59",
   "metadata": {},
   "source": [
    "Marker Map of Pass: use Latitude, Longitude"
   ]
  },
  {
   "cell_type": "code",
   "execution_count": 15,
   "id": "91634d57",
   "metadata": {},
   "outputs": [
    {
     "data": {
      "application/vnd.jupyter.widget-view+json": {
       "model_id": "a752df2a2e014d17bf43409e98eb862a",
       "version_major": 2,
       "version_minor": 0
      },
      "text/plain": [
       "Figure(layout=FigureLayout(border='1px solid black', height='300px', margin='0 auto 0 auto', padding='1px', wi…"
      ]
     },
     "metadata": {},
     "output_type": "display_data"
    }
   ],
   "source": [
    "#configure a map with all the points\n",
    "locations_p = pass_df[[\"Latitude\", \"Longitude\"]]\n",
    "\n",
    "figure_layout = {\n",
    "    'width': '400px',\n",
    "    'height': '300px',\n",
    "    'border': '1px solid black',\n",
    "    'padding': '1px',\n",
    "    'margin': '0 auto 0 auto'\n",
    "}\n",
    "fig = gmaps.figure(layout=figure_layout)\n",
    "\n",
    "#Add markers\n",
    "markers = gmaps.marker_layer(locations_p)\n",
    "# Add the layer to the map\n",
    "fig.add_layer(markers)\n",
    "fig"
   ]
  },
  {
   "cell_type": "markdown",
   "id": "0de76b93",
   "metadata": {},
   "source": [
    "Price vs Year ScatterPlot"
   ]
  },
  {
   "cell_type": "code",
   "execution_count": 27,
   "id": "d213d63f",
   "metadata": {},
   "outputs": [
    {
     "data": {
      "text/plain": [
       "array([2022])"
      ]
     },
     "execution_count": 27,
     "metadata": {},
     "output_type": "execute_result"
    }
   ],
   "source": [
    "pass_df['price_integer'].replace('', np.nan, inplace=True)\n",
    "pass_df.dropna(subset=['price_integer'], inplace=True)\n",
    "p = pass_df[\"Year\"].unique()\n",
    "p"
   ]
  },
  {
   "cell_type": "code",
   "execution_count": 22,
   "id": "fcea74d9",
   "metadata": {},
   "outputs": [],
   "source": [
    "\n",
    "x_values = pass_df[\"Year\"]\n",
    "y_values = pass_df[\"price_integer\"]\n"
   ]
  },
  {
   "cell_type": "code",
   "execution_count": 23,
   "id": "d6571878",
   "metadata": {},
   "outputs": [
    {
     "name": "stderr",
     "output_type": "stream",
     "text": [
      "/Users/annepizzini/opt/anaconda3/envs/PythonData38/lib/python3.8/site-packages/scipy/stats/_stats_mstats_common.py:170: RuntimeWarning: invalid value encountered in double_scalars\n",
      "  slope = ssxym / ssxm\n",
      "/Users/annepizzini/opt/anaconda3/envs/PythonData38/lib/python3.8/site-packages/scipy/stats/_stats_mstats_common.py:187: RuntimeWarning: divide by zero encountered in double_scalars\n",
      "  slope_stderr = np.sqrt((1 - r**2) * ssym / ssxm / df)\n"
     ]
    },
    {
     "data": {
      "image/png": "[encoded data removed]",
      "text/plain": [
       "<Figure size 432x288 with 1 Axes>"
      ]
     },
     "metadata": {
      "needs_background": "light"
     },
     "output_type": "display_data"
    }
   ],
   "source": [
    "# Calculate the correlation coefficient and linear regression model \n",
    "(slope, intercept, rvalue, pvalue, stderr) = linregress(x_values, y_values)\n",
    "regress_values = x_values * slope + intercept\n",
    "line_eq = \"y = \" + str(round(slope,2)) + \"x + \" + str(round(intercept,2))\n",
    "\n",
    "#create the scatter plot\n",
    "plt.scatter(x_values,y_values)\n",
    "plt.plot(x_values,regress_values,\"r-\")\n",
    "plt.annotate(line_eq,(5.8,0.8),fontsize=15,color=\"red\")\n",
    "plt.xlabel(\"Year\")\n",
    "plt.ylabel(\"Price\")\n",
    "plt.show()"
   ]
  },
  {
   "cell_type": "markdown",
   "id": "aec2db0e",
   "metadata": {},
   "source": [
    "# Pass vs Fail in Bar Chart"
   ]
  },
  {
   "cell_type": "code",
   "execution_count": null,
   "id": "8533decf",
   "metadata": {},
   "outputs": [],
   "source": [
    "# Generate a pie plot showing the distribution of female versus male mice using pyplot\n",
    "Passed = pass_df['name'].count()\n",
    "Failed = failed_df['name'].count()\n",
    "print(Passed)\n",
    "print(Failed)"
   ]
  },
  {
   "cell_type": "code",
   "execution_count": null,
   "id": "30f6329c",
   "metadata": {},
   "outputs": [],
   "source": [
    "result = [\"Pass\", \"Fail\"] \n",
    "count = [441,184]\n",
    "res_df = pd.DataFrame({\"Result\": result,\"Count\": count})\n",
    "res_df\n"
   ]
  },
  {
   "cell_type": "code",
   "execution_count": null,
   "id": "35062dd5",
   "metadata": {},
   "outputs": [],
   "source": [
    "\n",
    "# Generate a pie plot showing the distribution of pass vs fail\n",
    "\n",
    "colors = [\"lightblue\",\"orange\"]\n",
    "\n",
    "plot = res_df.plot.pie(y=\"Count\", labels=(\"Pass\",\"Fail\"), figsize=(7,5), colors = colors, autopct=\"%1.1f%%\",\n",
    "                             startangle=140,)\n",
    "# Create axes which are equal so we have a perfect circle\n",
    "plt.axis(\"equal\")\n",
    "# Save an image of our chart and print the final product to the screen\n",
    "plt.savefig('images/pass_fail.png')\n",
    "plt.show()"
   ]
  },
  {
   "cell_type": "code",
   "execution_count": null,
   "id": "9a9eabae",
   "metadata": {},
   "outputs": [],
   "source": []
  },
  {
   "cell_type": "code",
   "execution_count": null,
   "id": "8d532308",
   "metadata": {},
   "outputs": [],
   "source": []
  }
 ],
 "metadata": {
  "kernelspec": {
   "display_name": "Python [conda env:PythonData38]",
   "language": "python",
   "name": "conda-env-PythonData38-py"
  },
  "language_info": {
   "codemirror_mode": {
    "name": "ipython",
    "version": 3
   },
   "file_extension": ".py",
   "mimetype": "text/x-python",
   "name": "python",
   "nbconvert_exporter": "python",
   "pygments_lexer": "ipython3",
   "version": "3.8.12"
  }
 },
 "nbformat": 4,
 "nbformat_minor": 5
}
