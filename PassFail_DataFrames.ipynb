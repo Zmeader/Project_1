{
 "cells": [
  {
   "cell_type": "code",
   "execution_count": null,
   "id": "e9e7e4d8",
   "metadata": {},
   "outputs": [],
   "source": [
    "# Import dependencies\n",
    "from pprint import pprint\n",
    "import pandas as pd \n",
    "import requests\n",
    "import numpy as np\n",
    "\n",
    "import matplotlib.pyplot as plt\n",
    "import pandas as pd\n",
    "import scipy.stats as st\n",
    "import numpy as np\n",
    "from scipy.stats import linregress\n",
    "from sklearn import datasets\n",
    "\n",
    "import gmaps\n",
    "import os\n",
    "import json\n",
    "import time\n",
    "\n",
    "#g_key = "
   ]
  },
  {
   "cell_type": "code",
   "execution_count": null,
   "id": "4aeeaeda",
   "metadata": {},
   "outputs": [],
   "source": [
    "merged_clean = pd.read_csv('Merged_Clean.csv')\n",
    "#merged_clean.head(5)"
   ]
  },
  {
   "cell_type": "code",
   "execution_count": null,
   "id": "b247b278",
   "metadata": {},
   "outputs": [],
   "source": [
    "#DataFrame for Restaurant with Failed Status\n",
    "\n",
    "failed_df = merged_clean.loc[merged_clean[\"Results\"] == \"Fail\"]"
   ]
  },
  {
   "cell_type": "code",
   "execution_count": null,
   "id": "04ffed2b",
   "metadata": {},
   "outputs": [],
   "source": [
    "fail = pd.DataFrame(failed_df, columns = ['name','review_count','category','category_title','Risk',\n",
    "                                                'rating', 'Year', 'zip code_y','address1','price','Inspection Type','Results','Violations','Latitude','Longitude'])\n",
    "fail.head(5)\n"
   ]
  },
  {
   "cell_type": "code",
   "execution_count": null,
   "id": "2ea1067b",
   "metadata": {},
   "outputs": [],
   "source": [
    "#configure gmaps for lat/lng vs rating\n",
    "gmaps.configure(api_key = g_key)"
   ]
  },
  {
   "cell_type": "code",
   "execution_count": null,
   "id": "57196020",
   "metadata": {},
   "outputs": [],
   "source": [
    "# Store latitude and longitude in locations\n",
    "locations = fail[[\"Latitude\", \"Longitude\"]]\n",
    "\n",
    "# Fill NaN values and convert to float\n",
    "rating = fail[\"rating\"].astype(float)"
   ]
  },
  {
   "cell_type": "code",
   "execution_count": null,
   "id": "42a3b08d",
   "metadata": {},
   "outputs": [],
   "source": [
    "# Plot Heatmap\n",
    "fig = gmaps.figure()\n",
    "\n",
    "# Create heat layer\n",
    "heat_layer = gmaps.heatmap_layer(locations, weights=rating, \n",
    "                                 dissipating=False, max_intensity=300,\n",
    "                                 point_radius=50)\n",
    "\n",
    "# Add layer\n",
    "fig.add_layer(heat_layer)\n",
    "\n",
    "# Display figure\n",
    "fig"
   ]
  },
  {
   "cell_type": "code",
   "execution_count": null,
   "id": "1fee14ba",
   "metadata": {},
   "outputs": [],
   "source": [
    "#DataFrame for Restaurant with Passed Status\n",
    "passed_df = merged_clean.loc[merged_clean[\"Results\"] == \"Pass\"]\n",
    "pass_df = pd.DataFrame(passed_df, columns = ['name','review_count','category','category_title','Risk',\n",
    "                                                'rating', 'Year', 'zip code_y','address1','price','Inspection Type','Results','Violations','Latitude','Longitude'])\n",
    "pass_df.head(5)"
   ]
  },
  {
   "cell_type": "code",
   "execution_count": null,
   "id": "543c9b81",
   "metadata": {},
   "outputs": [],
   "source": [
    "#configure gmaps for lat/lng vs rating\n",
    "\n",
    "# Store latitude and longitude in locations\n",
    "locations = pass_df[[\"Latitude\", \"Longitude\"]]\n",
    "\n",
    "# Fill NaN values and convert to float\n",
    "rating = pass_df[\"rating\"].astype(float)"
   ]
  },
  {
   "cell_type": "code",
   "execution_count": null,
   "id": "3acbd4d9",
   "metadata": {},
   "outputs": [],
   "source": [
    "# Plot Heatmap\n",
    "fig = gmaps.figure()\n",
    "\n",
    "# Create heat layer\n",
    "heat_layer = gmaps.heatmap_layer(locations, weights=rating, \n",
    "                                 dissipating=False, max_intensity=300,\n",
    "                                 point_radius=50)\n",
    "\n",
    "# Add layer\n",
    "fig.add_layer(heat_layer)\n",
    "\n",
    "# Display figure\n",
    "fig"
   ]
  },
  {
   "cell_type": "code",
   "execution_count": null,
   "id": "8533decf",
   "metadata": {},
   "outputs": [],
   "source": []
  }
 ],
 "metadata": {
  "kernelspec": {
   "display_name": "Python [conda env:PythonData38]",
   "language": "python",
   "name": "conda-env-PythonData38-py"
  },
  "language_info": {
   "codemirror_mode": {
    "name": "ipython",
    "version": 3
   },
   "file_extension": ".py",
   "mimetype": "text/x-python",
   "name": "python",
   "nbconvert_exporter": "python",
   "pygments_lexer": "ipython3",
   "version": "3.8.12"
  }
 },
 "nbformat": 4,
 "nbformat_minor": 5
}
