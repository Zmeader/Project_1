{
 "cells": [
  {
   "cell_type": "code",
   "execution_count": 22,
   "id": "e9e7e4d8",
   "metadata": {},
   "outputs": [],
   "source": [
    "# Import dependencies\n",
    "from pprint import pprint\n",
    "import pandas as pd \n",
    "import requests\n",
    "import numpy as np\n",
    "\n",
    "import matplotlib.pyplot as plt\n",
    "import pandas as pd\n",
    "import scipy.stats as st\n",
    "import numpy as np\n",
    "from scipy.stats import linregress\n",
    "from sklearn import datasets\n",
    "\n",
    "import gmaps\n",
    "import os\n",
    "import json\n",
    "import time\n",
    "from config import g_key"
   ]
  },
  {
   "cell_type": "code",
   "execution_count": 23,
   "id": "4aeeaeda",
   "metadata": {},
   "outputs": [],
   "source": [
    "merged_clean = pd.read_csv('eg_merge_testing.csv')\n",
    "#merged_clean.head(5)"
   ]
  },
  {
   "cell_type": "markdown",
   "id": "270e38e1",
   "metadata": {},
   "source": [
    "# Failed"
   ]
  },
  {
   "cell_type": "code",
   "execution_count": 24,
   "id": "b247b278",
   "metadata": {},
   "outputs": [],
   "source": [
    "#DataFrame for Restaurant with Failed Status\n",
    "failed_df = merged_clean.loc[merged_clean[\"Results\"] == \"Fail\"]"
   ]
  },
  {
   "cell_type": "code",
   "execution_count": 25,
   "id": "04ffed2b",
   "metadata": {},
   "outputs": [],
   "source": [
    "fail = pd.DataFrame(failed_df, columns = ['name','review_count','category','category_title','Risk',\n",
    "                                                'rating', 'Year', 'zip code_y','address1','price','Inspection Type','Results','Violations','Latitude','Longitude'])\n",
    "#fail.head(5)\n"
   ]
  },
  {
   "cell_type": "code",
   "execution_count": 26,
   "id": "2ea1067b",
   "metadata": {},
   "outputs": [],
   "source": [
    "#create link for gmaps\n",
    "gmaps.configure(api_key = g_key)"
   ]
  },
  {
   "cell_type": "code",
   "execution_count": 31,
   "id": "57196020",
   "metadata": {},
   "outputs": [],
   "source": [
    "# configure gmaps for lat/lng vs rating based on . Store latitude and longitude in locations\n",
    "locations_f = fail[[\"Latitude\", \"Longitude\"]]\n",
    "\n",
    "# Fill NaN values and convert to float\n",
    "rating = fail[\"rating\"].astype(float)"
   ]
  },
  {
   "cell_type": "code",
   "execution_count": 32,
   "id": "42a3b08d",
   "metadata": {},
   "outputs": [
    {
     "data": {
      "application/vnd.jupyter.widget-view+json": {
       "model_id": "58018cb7369e407d8825433a29698228",
       "version_major": 2,
       "version_minor": 0
      },
      "text/plain": [
       "Figure(layout=FigureLayout(height='420px'))"
      ]
     },
     "metadata": {},
     "output_type": "display_data"
    }
   ],
   "source": [
    "# Plot Heatmap\n",
    "fig = gmaps.figure()\n",
    "\n",
    "# Create heat layer\n",
    "heat_layer = gmaps.heatmap_layer(locations_f, weights=rating, \n",
    "                                 dissipating=False, max_intensity=300,\n",
    "                                 point_radius=50)\n",
    "\n",
    "# Add layer\n",
    "fig.add_layer(heat_layer)\n",
    "\n",
    "# Display figure\n",
    "fig"
   ]
  },
  {
   "cell_type": "code",
   "execution_count": 33,
   "id": "e28dfecd",
   "metadata": {},
   "outputs": [
    {
     "data": {
      "application/vnd.jupyter.widget-view+json": {
       "model_id": "a5c606f3e8e3449789c60c0a26f26d81",
       "version_major": 2,
       "version_minor": 0
      },
      "text/plain": [
       "Figure(layout=FigureLayout(border='1px solid black', height='300px', margin='0 auto 0 auto', padding='1px', wi…"
      ]
     },
     "metadata": {},
     "output_type": "display_data"
    }
   ],
   "source": [
    "#configure a map with all the points\n",
    "figure = {\n",
    "    'width': '400px',\n",
    "    'height': '300px',\n",
    "    'border': '1px solid black',\n",
    "    'padding': '1px',\n",
    "    'margin': '0 auto 0 auto'\n",
    "}\n",
    "fig = gmaps.figure(layout=figure)\n",
    "\n",
    "#Add markers\n",
    "markers = gmaps.marker_layer(locations_f)\n",
    "# Add the layer to the map\n",
    "fig.add_layer(markers)\n",
    "fig"
   ]
  },
  {
   "cell_type": "markdown",
   "id": "04e74041",
   "metadata": {},
   "source": [
    "# Passing DataFrame"
   ]
  },
  {
   "cell_type": "code",
   "execution_count": 34,
   "id": "1fee14ba",
   "metadata": {},
   "outputs": [],
   "source": [
    "#DataFrame for Restaurant with Passed Status\n",
    "passed_df = merged_clean.loc[merged_clean[\"Results\"] == \"Pass\"]\n",
    "pass_df = pd.DataFrame(passed_df, columns = ['name','review_count','category','category_title','Risk',\n",
    "                                                'rating', 'Year', 'zip code_y','address1','price','Inspection Type','Results','Violations','Latitude','Longitude'])\n",
    "#pass_df.head(5)"
   ]
  },
  {
   "cell_type": "markdown",
   "id": "65cae44c",
   "metadata": {},
   "source": [
    "Use Latitude, Longitude and Rating as weight"
   ]
  },
  {
   "cell_type": "code",
   "execution_count": 35,
   "id": "543c9b81",
   "metadata": {},
   "outputs": [],
   "source": [
    "#configure gmaps for lat/lng vs rating\n",
    "\n",
    "# Store latitude and longitude in locations\n",
    "locations = pass_df[[\"Latitude\", \"Longitude\"]]\n",
    "\n",
    "# Fill NaN values and convert to float\n",
    "rating = pass_df[\"rating\"].astype(float)"
   ]
  },
  {
   "cell_type": "code",
   "execution_count": 36,
   "id": "3acbd4d9",
   "metadata": {},
   "outputs": [
    {
     "data": {
      "application/vnd.jupyter.widget-view+json": {
       "model_id": "0ef5a421b26b4324aa6f39aeec0db90b",
       "version_major": 2,
       "version_minor": 0
      },
      "text/plain": [
       "Figure(layout=FigureLayout(height='420px'))"
      ]
     },
     "metadata": {},
     "output_type": "display_data"
    }
   ],
   "source": [
    "# Plot Heatmap\n",
    "fig = gmaps.figure()\n",
    "\n",
    "# Create heat layer\n",
    "heat_layer = gmaps.heatmap_layer(locations, weights=rating, \n",
    "                                 dissipating=False, max_intensity=600,\n",
    "                                 point_radius=100)\n",
    "\n",
    "# Add layer\n",
    "fig.add_layer(heat_layer)\n",
    "\n",
    "# Display figure\n",
    "fig"
   ]
  },
  {
   "cell_type": "markdown",
   "id": "aabb4a59",
   "metadata": {},
   "source": [
    "Find all locations with passing"
   ]
  },
  {
   "cell_type": "code",
   "execution_count": 39,
   "id": "91634d57",
   "metadata": {},
   "outputs": [
    {
     "data": {
      "application/vnd.jupyter.widget-view+json": {
       "model_id": "947ef7c0fcc940eab653fd1492fce6f5",
       "version_major": 2,
       "version_minor": 0
      },
      "text/plain": [
       "Figure(layout=FigureLayout(border='1px solid black', height='300px', margin='0 auto 0 auto', padding='1px', wi…"
      ]
     },
     "metadata": {},
     "output_type": "display_data"
    }
   ],
   "source": [
    "#configure a map with all the points\n",
    "locations_p = pass_df[[\"Latitude\", \"Longitude\"]]\n",
    "\n",
    "figure_layout = {\n",
    "    'width': '400px',\n",
    "    'height': '300px',\n",
    "    'border': '1px solid black',\n",
    "    'padding': '1px',\n",
    "    'margin': '0 auto 0 auto'\n",
    "}\n",
    "fig = gmaps.figure(layout=figure_layout)\n",
    "\n",
    "#Add markers\n",
    "markers = gmaps.marker_layer(locations_p)\n",
    "# Add the layer to the map\n",
    "fig.add_layer(markers)\n",
    "fig"
   ]
  },
  {
   "cell_type": "code",
   "execution_count": null,
   "id": "8533decf",
   "metadata": {},
   "outputs": [],
   "source": []
  },
  {
   "cell_type": "code",
   "execution_count": null,
   "id": "30f6329c",
   "metadata": {},
   "outputs": [],
   "source": []
  }
 ],
 "metadata": {
  "kernelspec": {
   "display_name": "Python [conda env:PythonData38]",
   "language": "python",
   "name": "conda-env-PythonData38-py"
  },
  "language_info": {
   "codemirror_mode": {
    "name": "ipython",
    "version": 3
   },
   "file_extension": ".py",
   "mimetype": "text/x-python",
   "name": "python",
   "nbconvert_exporter": "python",
   "pygments_lexer": "ipython3",
   "version": "3.8.12"
  }
 },
 "nbformat": 4,
 "nbformat_minor": 5
}
