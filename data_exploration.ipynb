{
 "cells": [
  {
   "cell_type": "code",
   "execution_count": null,
   "id": "b79c589a",
   "metadata": {},
   "outputs": [],
   "source": [
    "import pandas as pd"
   ]
  },
  {
   "cell_type": "code",
   "execution_count": null,
   "id": "d88c3dd5",
   "metadata": {
    "scrolled": false
   },
   "outputs": [],
   "source": [
    "data = pd.read_csv('Merged_Clean.csv')\n",
    "data.head()"
   ]
  },
  {
   "cell_type": "code",
   "execution_count": null,
   "id": "85b4077f",
   "metadata": {},
   "outputs": [],
   "source": [
    "data['display_address'].value_counts()"
   ]
  },
  {
   "cell_type": "code",
   "execution_count": null,
   "id": "03556d65",
   "metadata": {},
   "outputs": [],
   "source": [
    "data1 = data.loc[data['display_address'] == \"['500 W Madison St', 'Chicago, IL 60661']\",:]\n",
    "data1[['display_address','name','AKA Name']].head()"
   ]
  },
  {
   "cell_type": "code",
   "execution_count": null,
   "id": "88ea8504",
   "metadata": {},
   "outputs": [],
   "source": [
    "data['Pass_1'] = 0\n",
    "data.loc[data['Results'] == 'Pass', 'Pass_1'] = 1\n",
    "by_zip = data.groupby(['zip code_x']).count()\n",
    "by_zip"
   ]
  },
  {
   "cell_type": "code",
   "execution_count": null,
   "id": "7aab7674",
   "metadata": {},
   "outputs": [],
   "source": [
    "pass_fail = by_zip['Pass_1'].mean()\n",
    "pass_fail"
   ]
  },
  {
   "cell_type": "code",
   "execution_count": null,
   "id": "3dc76cf5",
   "metadata": {},
   "outputs": [],
   "source": []
  }
 ],
 "metadata": {
  "kernelspec": {
   "display_name": "Python [conda env:PythonData38] *",
   "language": "python",
   "name": "conda-env-PythonData38-py"
  },
  "language_info": {
   "codemirror_mode": {
    "name": "ipython",
    "version": 3
   },
   "file_extension": ".py",
   "mimetype": "text/x-python",
   "name": "python",
   "nbconvert_exporter": "python",
   "pygments_lexer": "ipython3",
   "version": "3.8.12"
  }
 },
 "nbformat": 4,
 "nbformat_minor": 5
}
