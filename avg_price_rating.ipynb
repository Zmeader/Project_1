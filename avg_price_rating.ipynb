{
 "cells": [
  {
   "cell_type": "code",
   "execution_count": null,
   "id": "1587dfa0",
   "metadata": {},
   "outputs": [],
   "source": [
    "import pandas as pd\n",
    "import matplotlib.pyplot as plt\n",
    "import scipy.stats as st"
   ]
  },
  {
   "cell_type": "code",
   "execution_count": null,
   "id": "f969691b",
   "metadata": {},
   "outputs": [],
   "source": [
    "# Import csv\n",
    "restaurants3_df = pd.read_csv('yelp_csv/yelp_csv_CLEAN.csv')"
   ]
  },
  {
   "cell_type": "code",
   "execution_count": null,
   "id": "026ecfbf",
   "metadata": {
    "scrolled": false
   },
   "outputs": [],
   "source": [
    "restaurants3_df.head()"
   ]
  },
  {
   "cell_type": "code",
   "execution_count": null,
   "id": "19814ccc",
   "metadata": {},
   "outputs": [],
   "source": [
    "# Create groupby object by zip code for rating and price_integer\n",
    "by_zip = restaurants3_df.groupby(['zip code'])[['rating','price_integer']]"
   ]
  },
  {
   "cell_type": "code",
   "execution_count": null,
   "id": "6c37ad83",
   "metadata": {
    "scrolled": true
   },
   "outputs": [],
   "source": [
    "# Use describe method for rating and price_integer by zip code\n",
    "zip_stats = by_zip.describe()\n",
    "zip_stats"
   ]
  },
  {
   "cell_type": "code",
   "execution_count": null,
   "id": "4361d89e",
   "metadata": {},
   "outputs": [],
   "source": [
    "# Get average of rating and price_integer by zip code and drop null values \n",
    "zip_means = by_zip.mean()\n",
    "zip_means.dropna(inplace=True)\n",
    "zip_means"
   ]
  },
  {
   "cell_type": "code",
   "execution_count": null,
   "id": "c367b1d8",
   "metadata": {},
   "outputs": [],
   "source": [
    "# Define x and y axis \n",
    "x_axis = zip_means['price_integer']\n",
    "y_axis = zip_means['rating']\n",
    "\n",
    "# Perform linear regression\n",
    "(slope, intercept, rvalue, pvalue, stderr) = st.linregress(x_axis,y_axis)\n",
    "reg_line = slope * x_axis + intercept\n",
    "line_eq = f'y = {round(slope,2)}x + {round(intercept,2)}'\n",
    "line_eq"
   ]
  },
  {
   "cell_type": "code",
   "execution_count": null,
   "id": "17ee5436",
   "metadata": {},
   "outputs": [],
   "source": [
    "# Perform correlation analysis and print result\n",
    "corr = st.pearsonr(x_axis,y_axis)\n",
    "print(f'Correlation coefficient: {round(corr[0],2)}')\n",
    "\n",
    "# Plot scatterplot and regression line\n",
    "plt.scatter(x_axis,y_axis);\n",
    "plt.plot(x_axis,reg_line, color = 'red');\n",
    "plt.ylabel('Average Rating');\n",
    "plt.xlabel('Average Dollar Signs');\n",
    "plt.ylim(2.2,4)\n",
    "plt.xlim(.95,2.2)\n",
    "plt.title('')\n",
    "\n",
    "# Annotate with R^2 value\n",
    "plt.annotate(f'R-squared: {round((rvalue)**2,2)}',(1.1,2.5),color='red');"
   ]
  },
  {
   "cell_type": "code",
   "execution_count": null,
   "id": "ef7058c9",
   "metadata": {},
   "outputs": [],
   "source": [
    "# See how many restaurant listings there are by type\n",
    "by_category = restaurants3_df.groupby(['zip code','category_title'])\n",
    "restaurants_means = pd.DataFrame(by_category[['rating','price_integer']].mean())\n",
    "restaurants_counts = pd.DataFrame(by_category[['rating','price_integer']].count())\n",
    "# restaurants4_df.loc[restaurants4_df['category_title'] > 5]\n",
    "# restaurants_means.columns\n",
    "restaurants_means.reset_index(inplace=True)\n",
    "restaurants_counts.reset_index(inplace=True)\n",
    "restaurants4_df = pd.merge(restaurants_means,restaurants_counts,on=['zip code','category_title'])"
   ]
  },
  {
   "cell_type": "code",
   "execution_count": null,
   "id": "d0e51769",
   "metadata": {},
   "outputs": [],
   "source": [
    "restaurants4_df = restaurants4_df.rename(columns={'rating_x' : 'rating_mean',\n",
    "                                                 'price_integer_x' : 'price_mean',\n",
    "                                                 'rating_y' : 'rating_count',\n",
    "                                                 'price_integer_y' : 'price_count'})\n",
    "restaurants4_df.dropna(inplace=True)\n",
    "restaurants4_df = restaurants4_df.loc[(restaurants4_df['rating_count'] > 3) & \n",
    "                             (restaurants4_df['price_count'] > 3),:]"
   ]
  },
  {
   "cell_type": "code",
   "execution_count": null,
   "id": "96ac35cc",
   "metadata": {},
   "outputs": [],
   "source": [
    "restaurants4_df.loc[restaurants4_df['category_title'] == 'Pizza',:]"
   ]
  }
 ],
 "metadata": {
  "kernelspec": {
   "display_name": "Python [conda env:PythonData38] *",
   "language": "python",
   "name": "conda-env-PythonData38-py"
  },
  "language_info": {
   "codemirror_mode": {
    "name": "ipython",
    "version": 3
   },
   "file_extension": ".py",
   "mimetype": "text/x-python",
   "name": "python",
   "nbconvert_exporter": "python",
   "pygments_lexer": "ipython3",
   "version": "3.8.12"
  }
 },
 "nbformat": 4,
 "nbformat_minor": 5
}
