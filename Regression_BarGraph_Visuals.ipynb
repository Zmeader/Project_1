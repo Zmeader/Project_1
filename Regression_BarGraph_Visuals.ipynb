{
 "cells": [
  {
   "cell_type": "code",
   "execution_count": null,
   "id": "df358d77",
   "metadata": {},
   "outputs": [],
   "source": [
    "# Import dependencies\n",
    "import pandas as pd\n",
    "import numpy as np\n",
    "import matplotlib.pyplot as plt\n",
    "import scipy.stats as st"
   ]
  },
  {
   "cell_type": "code",
   "execution_count": null,
   "id": "60c72cfd",
   "metadata": {},
   "outputs": [],
   "source": [
    "path = 'yelp_csv/yelp_csv_v2.csv'\n",
    "\n",
    "restaurants0_df = pd.read_csv(path)\n",
    "\n",
    "restaurants0_df.head()"
   ]
  },
  {
   "cell_type": "code",
   "execution_count": null,
   "id": "626d0ac1",
   "metadata": {},
   "outputs": [],
   "source": [
    "restaurants1_df = restaurants0_df.drop(columns=['Unnamed: 0'])\n",
    "restaurants1_df"
   ]
  },
  {
   "cell_type": "code",
   "execution_count": null,
   "id": "f04cab54",
   "metadata": {},
   "outputs": [],
   "source": [
    "\n",
    "len(restaurants1_df['restaurant_id'].unique())"
   ]
  },
  {
   "cell_type": "code",
   "execution_count": null,
   "id": "915c5026",
   "metadata": {},
   "outputs": [],
   "source": [
    "# Remove duplicate rows\n",
    "restaurants2_df = pd.DataFrame(restaurants1_df).drop_duplicates(keep='last',subset='restaurant_id')"
   ]
  },
  {
   "cell_type": "code",
   "execution_count": null,
   "id": "95f880a4",
   "metadata": {},
   "outputs": [],
   "source": [
    "restaurants2_df.count()"
   ]
  },
  {
   "cell_type": "code",
   "execution_count": null,
   "id": "9ea97d7c",
   "metadata": {},
   "outputs": [],
   "source": [
    "# Check how many zip codes in original datafram\n",
    "restaurants2_df['zip code'].value_counts()"
   ]
  },
  {
   "cell_type": "code",
   "execution_count": null,
   "id": "695416a4",
   "metadata": {},
   "outputs": [],
   "source": [
    "# List of Chicago zip codes comes from https://zipcode.org/city/IL/CHICAGO\n",
    "chi_zips = ['60701','60696','60693','60691','60690','60685','60684','60699',\n",
    "            '60697','60695','60694','60689','60688','60687','60686','60682',\n",
    "            '60681','60680','60678','60675','60674','60670','60669','60677',\n",
    "            '60673','60668','60666','60659','60657','60655','60654','60651',\n",
    "            '60649','60645','60644','60640','60639','60664','60661','60660',\n",
    "            '60656','60653','60652','60647','60646','60643','60642','60641',\n",
    "            '60638','60634','60633','60631','60637','60636','60632','60630',\n",
    "            '60629','60626','60625','60621','60620','60617','60616','60613',\n",
    "            '60612','60609','60628','60624','60623','60622','60619','60618',\n",
    "            '60615','60614','60611','60610','60608','60607','60606','60605',\n",
    "            '60604','60603','60602','60601','60290']"
   ]
  },
  {
   "cell_type": "code",
   "execution_count": null,
   "id": "aa141d87",
   "metadata": {},
   "outputs": [],
   "source": [
    "# Remove restaurants not in a Chicago zip code\n",
    "restaurants3_df = pd.DataFrame(restaurants2_df.loc[restaurants2_df['zip code'].isin(chi_zips),:])"
   ]
  },
  {
   "cell_type": "code",
   "execution_count": null,
   "id": "f8f19647",
   "metadata": {},
   "outputs": [],
   "source": [
    "# Check the count of non-missing values per column\n",
    "restaurants3_df.count()"
   ]
  },
  {
   "cell_type": "code",
   "execution_count": null,
   "id": "1e8ce606",
   "metadata": {},
   "outputs": [],
   "source": [
    "len(restaurants3_df['restaurant_id'].unique())"
   ]
  },
  {
   "cell_type": "code",
   "execution_count": null,
   "id": "a1b4268a",
   "metadata": {},
   "outputs": [],
   "source": [
    "restaurants3_df.reset_index(drop=True,inplace=True)\n",
    "restaurants3_df.head()"
   ]
  },
  {
   "cell_type": "code",
   "execution_count": null,
   "id": "a9f8cc8a",
   "metadata": {},
   "outputs": [],
   "source": [
    "restaurants3_df.dtypes"
   ]
  },
  {
   "cell_type": "code",
   "execution_count": null,
   "id": "57742298",
   "metadata": {},
   "outputs": [],
   "source": [
    "restaurants3_df['price_integer'] = np.nan\n",
    "restaurants3_df.loc[restaurants3_df['price'] == \"$\", 'price_integer'] = 1\n",
    "restaurants3_df.loc[restaurants3_df['price'] == \"$$\", 'price_integer'] = 2\n",
    "restaurants3_df.loc[restaurants3_df['price'] == \"$$$\", 'price_integer'] = 3\n",
    "restaurants3_df.loc[restaurants3_df['price'] == \"$$$$\", 'price_integer'] = 4"
   ]
  },
  {
   "cell_type": "code",
   "execution_count": null,
   "id": "5e200d1d",
   "metadata": {},
   "outputs": [],
   "source": [
    "restaurants3_df.head()"
   ]
  },
  {
   "cell_type": "code",
   "execution_count": null,
   "id": "34a538eb",
   "metadata": {},
   "outputs": [],
   "source": [
    "restaurants3_df['rating'].value_counts()"
   ]
  },
  {
   "cell_type": "code",
   "execution_count": null,
   "id": "059149af",
   "metadata": {},
   "outputs": [],
   "source": [
    "restaurants3_df.to_csv('yelp_csv/yelp_csv_CLEAN.csv')"
   ]
  },
  {
   "cell_type": "code",
   "execution_count": null,
   "id": "405c808f",
   "metadata": {},
   "outputs": [],
   "source": [
    "ratings_df = restaurants3_df.groupby(\"zip code\")\n",
    "\n",
    "mean_rating = round(ratings_df['rating'].mean(), 1)\n",
    "\n",
    "median_rating = round(ratings_df['rating'].median(), 1)\n",
    "\n",
    "std_rating = round(ratings_df['rating'].std(), 1)\n",
    "\n",
    "var_rating = round(ratings_df['rating'].var(),1)\n",
    "\n",
    "\n",
    "\n",
    "\n",
    "summary_stats = {\"Mean\": mean_rating,\n",
    "                \"Median\": median_rating,\n",
    "                \"Variance\": var_rating,\n",
    "                \"Std Deviation\": std_rating}\n",
    "                \n",
    "\n",
    "summ_stats_df = pd.DataFrame(summary_stats)\n",
    "summ_stats_df.columns=pd.MultiIndex.from_product([['Ratings Summary Stats'],summ_stats_df.columns])\n",
    "summ_stats_df.head()"
   ]
  },
  {
   "cell_type": "code",
   "execution_count": null,
   "id": "f981cb3d",
   "metadata": {},
   "outputs": [],
   "source": [
    "zip_codes = pd.DataFrame(ratings_df['zip code'].count())\n",
    "zip_codes.head()"
   ]
  },
  {
   "cell_type": "code",
   "execution_count": null,
   "id": "80751735",
   "metadata": {
    "scrolled": true
   },
   "outputs": [],
   "source": [
    "restaurants3_df['review_count'].value_counts()"
   ]
  },
  {
   "cell_type": "code",
   "execution_count": null,
   "id": "8f7cb7a8",
   "metadata": {},
   "outputs": [],
   "source": [
    "# Capomulin_df = Combined_data.loc[Combined_data[\"Drug Regimen\"] == \"Capomulin\",:]\n",
    "\n",
    "# zip_rating_df = restaurants3_df.loc[restaurants3_df[\"rating\"] == (0<=5),:]\n",
    "restaurants3_df[\"rating\"].value_counts()"
   ]
  },
  {
   "cell_type": "code",
   "execution_count": null,
   "id": "8a96d93e",
   "metadata": {},
   "outputs": [],
   "source": [
    "fig1, ax1 = plt.subplots(figsize=(15, 10))\n",
    "place_hold =restaurants3_df.groupby(['price_integer']).mean()\n",
    "place_hold"
   ]
  },
  {
   "cell_type": "code",
   "execution_count": null,
   "id": "e6eb4b33",
   "metadata": {},
   "outputs": [],
   "source": [
    "marker_size=15\n",
    "plt.scatter(restaurants3_df[\"price_integer\"],restaurants3_df['rating'],s=175, color=\"blue\")\n",
    "plt.title('Price Versus Rating',fontsize =25)\n",
    "plt.xlabel('Price',fontsize =14)\n",
    "plt.ylabel('Rating',fontsize =14)\n",
    "\n",
    "\n",
    "\n",
    "plt.show()"
   ]
  },
  {
   "cell_type": "code",
   "execution_count": null,
   "id": "849bd597",
   "metadata": {},
   "outputs": [],
   "source": [
    "corr=round(st.pearsonr(avg_zip['zip code'],avg_zip['rating'])[0],2)\n",
    "print(f\"The correlation between zip code and rating is {corr}\")"
   ]
  },
  {
   "cell_type": "code",
   "execution_count": null,
   "id": "cd0630f4",
   "metadata": {},
   "outputs": [],
   "source": [
    "x_values = avg_zip['zip code']\n",
    "y_values = avg_zip['rating']\n",
    "\n",
    "(slope, intercept, rvalue, pvalue, stderr) = linregress(x_values, y_values)\n",
    "regress_values = x_values * slope + intercept\n",
    "\n",
    "print(f\"slope:{slope}\")\n",
    "print(f\"intercept:{intercept}\")\n",
    "print(f\"rvalue (Correlation coefficient):{rvalue}\")\n",
    "print(f\"pandas (Correlation coefficient):{corr}\")\n",
    "print(f\"stderr:{stderr}\")\n",
    "\n",
    "line_eq = \"y = \" + str(round(slope,2)) + \"x + \" + str(round(intercept,2))\n",
    "\n",
    "print(line_eq)"
   ]
  },
  {
   "cell_type": "code",
   "execution_count": null,
   "id": "bf83f0b9",
   "metadata": {},
   "outputs": [],
   "source": [
    "# Add the linear regression equation and line to plot\n",
    "fig1, ax1 = plt.subplots(figsize=(15, 10))\n",
    "plt.scatter(x_values,y_values,s=175, color=\"blue\")\n",
    "plt.plot(x_values,regress_values,\"r-\")\n",
    "plt.title('Regression Plot of Zip Codes Vs. Rating',fontsize =20)\n",
    "plt.xlabel('Price',fontsize =14)\n",
    "plt.ylabel('Average Rating',fontsize =14)\n",
    "ax1.annotate(line_eq, xy=(20, 40), xycoords='data',xytext=(0.8, 0.95), textcoords='axes fraction',horizontalalignment='right', verticalalignment='top',fontsize=30,color=\"red\")\n",
    "\n",
    "print(f\"The r-squared is: {rvalue**2}\")\n",
    "\n",
    "\n",
    "plt.show()"
   ]
  },
  {
   "cell_type": "code",
   "execution_count": null,
   "id": "6d56b140",
   "metadata": {},
   "outputs": [],
   "source": [
    "# zip_vs_rating = restaurants3_df[\"zip code\"]\n",
    "# zip_vs_rating\n",
    "zip_rating = restaurants3_df.groupby(\"zip code\")\n",
    "\n",
    "mean_rating = zip_rating['rating'].mean()\n",
    "mean_rating"
   ]
  },
  {
   "cell_type": "code",
   "execution_count": null,
   "id": "4baa2ba2",
   "metadata": {},
   "outputs": [],
   "source": [
    "# rating_per_categ = restaurants3_df.groupby([\"zip code\"]).mean()\n",
    "mean_rating = zip_rating['rating'].mean() \n",
    "\n",
    "# plot_pandas = rating_per_categ.plot.bar(figsize=(15,10), color='b',fontsize = 14)\n",
    "plot_pandas = mean_rating.plot.bar(figsize=(15,10), color='b',fontsize = 14)\n",
    "mean_rating\n",
    "plt.xlabel(\"Zip Codes\",fontsize = 14)\n",
    "plt.ylabel(\"Avg Number of Ratings\",fontsize = 14)\n",
    "plt.title(\"Avergae Number of Ratings per Zip Code\",fontsize = 20)\n",
    "\n",
    "\n",
    "plt.tight_layout()\n",
    "plt.show()\n",
    "\n",
    "mean_rating"
   ]
  },
  {
   "cell_type": "code",
   "execution_count": null,
   "id": "095fb1ee",
   "metadata": {},
   "outputs": [],
   "source": []
  }
 ],
 "metadata": {
  "kernelspec": {
   "display_name": "Python 3 (ipykernel)",
   "language": "python",
   "name": "python3"
  },
  "language_info": {
   "codemirror_mode": {
    "name": "ipython",
    "version": 3
   },
   "file_extension": ".py",
   "mimetype": "text/x-python",
   "name": "python",
   "nbconvert_exporter": "python",
   "pygments_lexer": "ipython3",
   "version": "3.9.7"
  }
 },
 "nbformat": 4,
 "nbformat_minor": 5
}
