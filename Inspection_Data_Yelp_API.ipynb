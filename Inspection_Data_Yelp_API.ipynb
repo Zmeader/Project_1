{
 "cells": [
  {
   "cell_type": "markdown",
   "id": "19f13433",
   "metadata": {},
   "source": [
    "### Cleaning the Inspection Data:\n",
    "The first part of this is cleaning the inspection data and creating a new csv file"
   ]
  },
  {
   "cell_type": "code",
   "execution_count": null,
   "id": "7c0b39d6",
   "metadata": {},
   "outputs": [],
   "source": [
    "# Import dependencies\n",
    "from pprint import pprint\n",
    "import pandas as pd \n",
    "import requests\n",
    "import numpy as np\n",
    "\n",
    "import matplotlib.pyplot as plt\n",
    "import pandas as pd\n",
    "import scipy.stats as st\n",
    "import numpy as np\n",
    "from scipy.stats import linregress\n",
    "from sklearn import datasets\n",
    "\n",
    "#yelp_api_key = "
   ]
  },
  {
   "cell_type": "code",
   "execution_count": null,
   "id": "44f603df",
   "metadata": {},
   "outputs": [],
   "source": [
    "#import food inspection CSV file\n",
    "inspection = pd.read_csv('inspection_5years.csv')\n",
    "inspection.head(5)"
   ]
  },
  {
   "cell_type": "code",
   "execution_count": null,
   "id": "cac90914",
   "metadata": {},
   "outputs": [],
   "source": [
    "#Change the format of the address\n",
    "inspection = pd.DataFrame(inspection, columns = ['Address','AKA Name','Facility Type','Risk',\n",
    "                                                'Zip', 'Year','Inspection Type','Results','Violations','Latitude','Longitude'])\n",
    "inspection['Address'] = inspection['Address'].str.lower()\n",
    "\n",
    "print(inspection)"
   ]
  },
  {
   "cell_type": "code",
   "execution_count": null,
   "id": "863ff706",
   "metadata": {},
   "outputs": [],
   "source": [
    "inspection = pd.DataFrame(inspection, columns = ['Address','AKA Name','Facility Type','Risk',\n",
    "                                                'Zip', 'Year','Inspection Type','Results','Violations','Latitude','Longitude'])\n",
    "\n",
    "inspection['Address'] = inspection['Address'].str.title()\n",
    "\n",
    "print(inspection)"
   ]
  },
  {
   "cell_type": "code",
   "execution_count": null,
   "id": "f8531deb",
   "metadata": {},
   "outputs": [],
   "source": [
    "inspection.to_csv('inspection_clean.csv', index=False)"
   ]
  },
  {
   "cell_type": "code",
   "execution_count": null,
   "id": "5b1b39b1",
   "metadata": {},
   "outputs": [],
   "source": [
    "#list all the zipcodes\n",
    "zipcode = inspection['Zip'].value_counts()\n",
    "zipcode"
   ]
  }
 ],
 "metadata": {
  "kernelspec": {
   "display_name": "Python [conda env:PythonData38]",
   "language": "python",
   "name": "conda-env-PythonData38-py"
  },
  "language_info": {
   "codemirror_mode": {
    "name": "ipython",
    "version": 3
   },
   "file_extension": ".py",
   "mimetype": "text/x-python",
   "name": "python",
   "nbconvert_exporter": "python",
   "pygments_lexer": "ipython3",
   "version": "3.8.12"
  }
 },
 "nbformat": 4,
 "nbformat_minor": 5
}
