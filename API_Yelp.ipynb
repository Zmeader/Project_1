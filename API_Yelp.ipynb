{
 "cells": [
  {
   "cell_type": "code",
   "execution_count": null,
   "id": "10d8dc60",
   "metadata": {},
   "outputs": [],
   "source": [
    "import matplotlib.pyplot as plt\n",
    "import pandas as pd\n",
    "import numpy as np\n",
    "import requests\n",
    "import time\n",
    "from scipy.stats import linregress\n",
    "\n",
    "from citipy import citipy\n",
    "from config import yelp_key\n",
    "from config import g_key\n",
    "# from config import client_key"
   ]
  },
  {
   "cell_type": "code",
   "execution_count": null,
   "id": "c65308e2",
   "metadata": {},
   "outputs": [],
   "source": [
    "#pull in Yelp API data\n",
    "\n",
    "url = \"https://api.yelp.com/v3/businesses/search?\"\n",
    "headers = {\"Authorization\": \"Bearer {}\".format(yelp_key)}\n",
    "params = {\"location\": \"Chicago\",\n",
    "         \"limit\": 50,}\n",
    "city = \"Chicago\"\n",
    "\n",
    "#potential parameters are location, price, rating\n",
    "\n",
    "response = requests.get(url, headers=headers, params=params)\n",
    "chicago_data = response.json()\n",
    "chicago_data"
   ]
  },
  {
   "cell_type": "code",
   "execution_count": null,
   "id": "d4453c8d",
   "metadata": {},
   "outputs": [],
   "source": [
    "#pull restaurant data into a dataframe\n",
    "zip_code = []\n",
    "name = []\n",
    "rating = []\n",
    "food_type = []\n",
    "lat = []\n",
    "lng = []\n",
    "review_count = []\n",
    "\n",
    "for business in chicago_data[\"businesses\"]:\n",
    "    name.append(business[\"name\"])\n",
    "    rating.append(business[\"rating\"])\n",
    "    zip_code.append(business[\"location\"][\"zip_code\"])\n",
    "    food_type.append(business[\"categories\"][0][\"title\"])\n",
    "    review_count.append(business[\"review_count\"])\n",
    "    lat.append(business[\"coordinates\"][\"latitude\"])\n",
    "    lng.append(business[\"coordinates\"][\"longitude\"])\n",
    " "
   ]
  },
  {
   "cell_type": "code",
   "execution_count": null,
   "id": "458645c4",
   "metadata": {},
   "outputs": [],
   "source": [
    "name"
   ]
  },
  {
   "cell_type": "code",
   "execution_count": null,
   "id": "5b8b77b2",
   "metadata": {},
   "outputs": [],
   "source": []
  },
  {
   "cell_type": "code",
   "execution_count": null,
   "id": "e7673bb6",
   "metadata": {},
   "outputs": [],
   "source": []
  },
  {
   "cell_type": "code",
   "execution_count": null,
   "id": "bb50ea03",
   "metadata": {},
   "outputs": [],
   "source": []
  }
 ],
 "metadata": {
  "kernelspec": {
   "display_name": "Python 3 (ipykernel)",
   "language": "python",
   "name": "python3"
  },
  "language_info": {
   "codemirror_mode": {
    "name": "ipython",
    "version": 3
   },
   "file_extension": ".py",
   "mimetype": "text/x-python",
   "name": "python",
   "nbconvert_exporter": "python",
   "pygments_lexer": "ipython3",
   "version": "3.9.7"
  }
 },
 "nbformat": 4,
 "nbformat_minor": 5
}
