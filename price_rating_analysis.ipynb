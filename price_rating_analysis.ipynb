{
 "cells": [
  {
   "cell_type": "code",
   "execution_count": null,
   "id": "1587dfa0",
   "metadata": {},
   "outputs": [],
   "source": [
    "import pandas as pd\n",
    "import matplotlib.pyplot as plt\n",
    "import scipy.stats as st\n",
    "import numpy as np"
   ]
  },
  {
   "cell_type": "code",
   "execution_count": null,
   "id": "f969691b",
   "metadata": {},
   "outputs": [],
   "source": [
    "# Import csv\n",
    "restaurants3_df = pd.read_csv('data/yelp_csv/yelp_csv_CLEAN.csv')"
   ]
  },
  {
   "cell_type": "code",
   "execution_count": null,
   "id": "026ecfbf",
   "metadata": {
    "scrolled": false
   },
   "outputs": [],
   "source": [
    "restaurants3_df.head()"
   ]
  },
  {
   "cell_type": "code",
   "execution_count": null,
   "id": "19814ccc",
   "metadata": {},
   "outputs": [],
   "source": [
    "# Create groupby object by zip code for rating and price_integer\n",
    "by_zip = restaurants3_df.groupby(['zip code'])[['rating','price_integer']]"
   ]
  },
  {
   "cell_type": "code",
   "execution_count": null,
   "id": "6c37ad83",
   "metadata": {
    "scrolled": true
   },
   "outputs": [],
   "source": [
    "# Use describe method for rating and price_integer by zip code\n",
    "zip_stats = by_zip.describe()\n",
    "zip_stats"
   ]
  },
  {
   "cell_type": "code",
   "execution_count": null,
   "id": "4361d89e",
   "metadata": {},
   "outputs": [],
   "source": [
    "# Get average of rating and price_integer by zip code and drop null values \n",
    "zip_means = by_zip.mean()\n",
    "zip_means.dropna(inplace=True)\n",
    "zip_means"
   ]
  },
  {
   "cell_type": "code",
   "execution_count": null,
   "id": "c367b1d8",
   "metadata": {},
   "outputs": [],
   "source": [
    "# Define x and y axis \n",
    "x_axis = zip_means['price_integer']\n",
    "y_axis = zip_means['rating']\n",
    "\n",
    "# Perform linear regression\n",
    "(slope, intercept, rvalue, pvalue, stderr) = st.linregress(x_axis,y_axis)\n",
    "reg_line = slope * x_axis + intercept\n",
    "line_eq = f'y = {round(slope,2)}x + {round(intercept,2)}'\n",
    "line_eq"
   ]
  },
  {
   "cell_type": "code",
   "execution_count": null,
   "id": "17ee5436",
   "metadata": {
    "scrolled": true
   },
   "outputs": [],
   "source": [
    "# Perform correlation analysis and print result\n",
    "corr = st.pearsonr(x_axis,y_axis)\n",
    "print(f'Correlation coefficient: {round(corr[0],2)}')\n",
    "\n",
    "# Plot scatterplot and regression line\n",
    "plt.scatter(x_axis,y_axis);\n",
    "plt.plot(x_axis,reg_line, color = 'red');\n",
    "plt.ylabel('Average Rating');\n",
    "plt.xlabel('Average Dollar Signs');\n",
    "plt.ylim(2.2,4)\n",
    "plt.xlim(.95,2.2)\n",
    "plt.title('')\n",
    "\n",
    "# Annotate with R^2 value\n",
    "plt.annotate(f'R-squared: {round((rvalue)**2,2)}',(1.1,2.5),color='red');\n",
    "\n",
    "plt.savefig('images/avg_price_rating_scatter.png')"
   ]
  },
  {
   "cell_type": "code",
   "execution_count": null,
   "id": "abc3db52",
   "metadata": {
    "scrolled": false
   },
   "outputs": [],
   "source": [
    "restaurants3_df['rating_x_reviews'] = restaurants3_df['rating'] * restaurants3_df['review_count']\n",
    "restaurants3_df"
   ]
  },
  {
   "cell_type": "code",
   "execution_count": null,
   "id": "f4797d22",
   "metadata": {},
   "outputs": [],
   "source": [
    "# groupby zip code and category type\n",
    "by_category = restaurants3_df.groupby(['zip code','category_title'])"
   ]
  },
  {
   "cell_type": "code",
   "execution_count": null,
   "id": "ef7058c9",
   "metadata": {},
   "outputs": [],
   "source": [
    "# Get ratings and price by zip codes\n",
    "restaurants_means = pd.DataFrame(by_category[['rating','price_integer']].mean())\n",
    "restaurants_counts = pd.DataFrame(by_category[['rating','price_integer']].count())\n",
    "\n",
    "restaurants_sums = pd.DataFrame(by_category[['rating_x_reviews','review_count']].sum())\n",
    "# restaurants4_df.loc[restaurants4_df['category_title'] > 5]\n",
    "# restaurants_means.columns\n",
    "restaurants_means.reset_index(inplace=True)\n",
    "restaurants_counts.reset_index(inplace=True)\n",
    "restaurants4_df = pd.merge(restaurants_means,restaurants_counts,on=['zip code','category_title'])\n",
    "restaurants5_df = pd.merge(restaurants4_df,restaurants_sums,on=['zip code','category_title'])"
   ]
  },
  {
   "cell_type": "code",
   "execution_count": null,
   "id": "d0e51769",
   "metadata": {},
   "outputs": [],
   "source": [
    "restaurants5_df = restaurants5_df.rename(columns={'rating_x' : 'rating_mean',\n",
    "                                                 'price_integer_x' : 'price_mean',\n",
    "                                                 'rating_y' : 'rating_count',\n",
    "                                                 'price_integer_y' : 'price_count'})\n",
    "restaurants5_df.dropna(inplace=True)\n",
    "restaurants5_df['wgt_avg_rating'] = restaurants5_df['rating_x_reviews'] / restaurants5_df['review_count']"
   ]
  },
  {
   "cell_type": "code",
   "execution_count": null,
   "id": "96ac35cc",
   "metadata": {},
   "outputs": [],
   "source": [
    "best_pizza = restaurants5_df.loc[(restaurants5_df['category_title'] == 'Pizza'),:]\n",
    "best_pizza_simple = best_pizza.sort_values(by='rating_mean',ascending=False)\n",
    "best_pizza_simple.head()"
   ]
  },
  {
   "cell_type": "code",
   "execution_count": null,
   "id": "9d24721e",
   "metadata": {
    "scrolled": true
   },
   "outputs": [],
   "source": [
    "best_pizza_wgt = best_pizza.sort_values(by='wgt_avg_rating',ascending=False)\n",
    "best_pizza_wgt"
   ]
  },
  {
   "cell_type": "code",
   "execution_count": null,
   "id": "28cc5428",
   "metadata": {},
   "outputs": [],
   "source": [
    "pizza_chart = pd.DataFrame(best_pizza_wgt.iloc[0:10,[0,2,8]])\n",
    "# pizza_chart.set_index('zip code',inplace=True)\n",
    "pizza_chart.plot(kind='bar',x='zip code',y=['rating_mean','wgt_avg_rating']);\n",
    "plt.title('Best Chicago Zip Codes for Pizza');\n",
    "plt.savefig('images/pizza_rating_zips.png')"
   ]
  },
  {
   "cell_type": "code",
   "execution_count": null,
   "id": "8f293d91",
   "metadata": {},
   "outputs": [],
   "source": [
    "restaurants3_df.head()"
   ]
  },
  {
   "cell_type": "code",
   "execution_count": null,
   "id": "bfdf01e6",
   "metadata": {},
   "outputs": [],
   "source": [
    "by_type = pd.DataFrame(restaurants3_df.groupby(['category_title']).agg({'rating' : ['count','mean'],\n",
    "                                                          'review_count' : 'sum',\n",
    "                                                          'rating_x_reviews' : 'sum',              \n",
    "                                                          'price_integer' : 'mean'}))\n",
    "by_type.sort_values(by=[('rating','count')],ascending=False,inplace=True)\n",
    "by_type['wgt_avg_rating'] = by_type[('rating_x_reviews','sum')] / by_type[('review_count','sum')]\n",
    "by_type.head()"
   ]
  },
  {
   "cell_type": "code",
   "execution_count": null,
   "id": "085e5104",
   "metadata": {},
   "outputs": [],
   "source": [
    "categories_df = pd.DataFrame(by_type.iloc[0:10,0])\n",
    "categories_df.reset_index(inplace=True)\n",
    "\n",
    "x_axis = np.arange(0,len(categories_df['category_title']));\n",
    "x_labels = categories_df['category_title'];\n",
    "y_axis = categories_df[('rating','count')];\n",
    "plt.xticks(x_axis,x_labels,rotation=90);\n",
    "plt.bar(x=x_axis,height=y_axis);\n",
    "plt.title('Number of Chicago Restaurants by Type');\n",
    "plt.xlim(-.6,9.6);\n",
    "plt.savefig('images/number_restaurants_by_type.png')"
   ]
  },
  {
   "cell_type": "code",
   "execution_count": null,
   "id": "202297f0",
   "metadata": {},
   "outputs": [],
   "source": []
  }
 ],
 "metadata": {
  "kernelspec": {
   "display_name": "Python [conda env:PythonData38] *",
   "language": "python",
   "name": "conda-env-PythonData38-py"
  },
  "language_info": {
   "codemirror_mode": {
    "name": "ipython",
    "version": 3
   },
   "file_extension": ".py",
   "mimetype": "text/x-python",
   "name": "python",
   "nbconvert_exporter": "python",
   "pygments_lexer": "ipython3",
   "version": "3.8.12"
  }
 },
 "nbformat": 4,
 "nbformat_minor": 5
}
